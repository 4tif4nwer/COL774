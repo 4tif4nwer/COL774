{
 "cells": [
  {
   "cell_type": "code",
   "execution_count": 1,
   "id": "edfdec1b",
   "metadata": {},
   "outputs": [],
   "source": [
    "from sayamnn import one_hot_encoder,sigmoid,sigmoid_derivative,relu,relu_derivative, NeuralNetwork"
   ]
  },
  {
   "cell_type": "code",
   "execution_count": 2,
   "id": "93a0894c",
   "metadata": {},
   "outputs": [],
   "source": [
    "import numpy as np\n",
    "import scipy\n",
    "import pandas as pd\n",
    "import tqdm\n",
    "import time\n",
    "import matplotlib.pyplot as plt"
   ]
  },
  {
   "cell_type": "code",
   "execution_count": 3,
   "id": "53682002",
   "metadata": {},
   "outputs": [],
   "source": [
    "training_data = pd.read_csv('data/COL774_fmnist/fmnist_train.csv',header=None).to_numpy(dtype = 'float')\n",
    "x_train, y_train = training_data[:, :-1]/255, training_data[:, -1]\n",
    "y_train = one_hot_encoder(y_train.reshape((-1,1)))\n",
    "\n",
    "test_data = pd.read_csv('data/COL774_fmnist/fmnist_test.csv',header  = None).to_numpy(dtype = 'float')\n",
    "x_test, y_test = test_data[:, :-1]/255, test_data[:, -1]\n",
    "y_test = one_hot_encoder(y_test.reshape((-1,1)))\n"
   ]
  },
  {
   "cell_type": "code",
   "execution_count": 4,
   "id": "dff7243e",
   "metadata": {},
   "outputs": [
    {
     "name": "stderr",
     "output_type": "stream",
     "text": [
      "100%|████████████████████████████████████████████| 5/5 [14:55<00:00, 179.20s/it]\n"
     ]
    }
   ],
   "source": [
    "nns = []\n",
    "traintime = []\n",
    "for n in tqdm.tqdm([5,10,15,20,25]):\n",
    "    \n",
    "    nnb = NeuralNetwork(x_train,y_train,[n],sigmoid,sigmoid_derivative)\n",
    "    start = time.time()\n",
    "    nnb.train()\n",
    "    end = time.time()\n",
    "    traintime.append(end-start)   \n",
    "    nns.append(nnb)"
   ]
  },
  {
   "cell_type": "code",
   "execution_count": 5,
   "id": "7cfe183b",
   "metadata": {},
   "outputs": [],
   "source": [
    "n = [5,10,15,20,25]\n",
    "train_scores = []\n",
    "test_scores = []\n",
    "for nn in nns:\n",
    "    train_scores.append(nn.accuracy(x_train,y_train))\n",
    "    test_scores.append(nn.accuracy(x_test,y_test))\n",
    "    "
   ]
  },
  {
   "cell_type": "code",
   "execution_count": null,
   "id": "a75b9b7c",
   "metadata": {},
   "outputs": [],
   "source": [
    "traintime"
   ]
  },
  {
   "cell_type": "code",
   "execution_count": null,
   "id": "eb7c60d2",
   "metadata": {},
   "outputs": [],
   "source": [
    "print(train_scores)\n",
    "print(test_scores)"
   ]
  },
  {
   "cell_type": "code",
   "execution_count": null,
   "id": "469ce334",
   "metadata": {
    "scrolled": true
   },
   "outputs": [],
   "source": [
    "fig,ax = plt.subplots()\n",
    "ax.plot(n,train_scores)\n",
    "ax.plot(n,test_scores)\n",
    "plt.show()"
   ]
  },
  {
   "cell_type": "code",
   "execution_count": null,
   "id": "7e8af869",
   "metadata": {},
   "outputs": [],
   "source": [
    "nns_adaptive = []\n",
    "traintime = []\n",
    "for i in tqdm.tqdm(n):\n",
    "    nnc = NeuralNetwork(x_train,y_train,[i],sigmoid,sigmoid_derivative,adaptive=True)\n",
    "    start = time.time()\n",
    "    nnc.train()\n",
    "    end = time.time()\n",
    "    traintime.append(end-start)\n",
    "    nns_adaptive.append(nnc)"
   ]
  },
  {
   "cell_type": "code",
   "execution_count": null,
   "id": "859ef4c1",
   "metadata": {},
   "outputs": [],
   "source": [
    "train_scores = []\n",
    "test_scores = []\n",
    "for nn in nns_adaptive:\n",
    "    train_scores.append(nn.accuracy(x_train,y_train))\n",
    "    test_scores.append(nn.accuracy(x_test,y_test))"
   ]
  },
  {
   "cell_type": "code",
   "execution_count": null,
   "id": "af266fd9",
   "metadata": {},
   "outputs": [],
   "source": [
    "traintime"
   ]
  },
  {
   "cell_type": "code",
   "execution_count": null,
   "id": "f5eb4c22",
   "metadata": {},
   "outputs": [],
   "source": [
    "print(train_scores)\n",
    "print(test_scores)"
   ]
  },
  {
   "cell_type": "code",
   "execution_count": null,
   "id": "8f601ae8",
   "metadata": {},
   "outputs": [],
   "source": [
    "fig,ax = plt.subplots()\n",
    "ax.plot(n,train_scores)\n",
    "ax.plot(n,test_scores)\n",
    "plt.show()"
   ]
  },
  {
   "cell_type": "code",
   "execution_count": 6,
   "id": "51e96f7d",
   "metadata": {},
   "outputs": [
    {
     "name": "stdout",
     "output_type": "stream",
     "text": [
      "0.9511\n",
      "0.8872\n",
      "0.9788333333333333\n",
      "0.8856\n"
     ]
    }
   ],
   "source": [
    "nnd_relu = NeuralNetwork(x_train,y_train,[100,100],relu,relu_derivative,adaptive=True)\n",
    "nnd_relu.train()\n",
    "nnd_sigmoid = NeuralNetwork(x_train,y_train,[100,100],sigmoid,sigmoid_derivative,adaptive=True)\n",
    "nnd_sigmoid.train()\n",
    "\n",
    "print(nnd_sigmoid.accuracy(x_train,y_train))\n",
    "print(nnd_sigmoid.accuracy(x_test,y_test))\n",
    "print(nnd_relu.accuracy(x_train,y_train))\n",
    "print(nnd_relu.accuracy(x_test,y_test))"
   ]
  }
 ],
 "metadata": {
  "kernelspec": {
   "display_name": "Python 3 (ipykernel)",
   "language": "python",
   "name": "python3"
  },
  "language_info": {
   "codemirror_mode": {
    "name": "ipython",
    "version": 3
   },
   "file_extension": ".py",
   "mimetype": "text/x-python",
   "name": "python",
   "nbconvert_exporter": "python",
   "pygments_lexer": "ipython3",
   "version": "3.9.12"
  }
 },
 "nbformat": 4,
 "nbformat_minor": 5
}
