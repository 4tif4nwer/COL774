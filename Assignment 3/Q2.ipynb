{
 "cells": [
  {
   "cell_type": "code",
   "execution_count": 2,
   "id": "edfdec1b",
   "metadata": {},
   "outputs": [],
   "source": [
    "from sayamnn import one_hot_encoder,sigmoid,sigmoid_derivative,relu,relu_derivative, NeuralNetwork"
   ]
  },
  {
   "cell_type": "code",
   "execution_count": 30,
   "id": "93a0894c",
   "metadata": {},
   "outputs": [],
   "source": [
    "import numpy as np\n",
    "import scipy\n",
    "import pandas as pd\n",
    "import tqdm\n",
    "import matplotlib.pyplot as plt"
   ]
  },
  {
   "cell_type": "code",
   "execution_count": 22,
   "id": "53682002",
   "metadata": {},
   "outputs": [],
   "source": [
    "training_data = pd.read_csv('data/COL774_fmnist/fmnist_train.csv',header=None).to_numpy(dtype = 'float')\n",
    "x_train, y_train = training_data[:, :-1]/255, training_data[:, -1]\n",
    "y_train = one_hot_encoder(y_train.reshape((-1,1)))\n",
    "\n",
    "test_data = pd.read_csv('data/COL774_fmnist/fmnist_test.csv',header  = None).to_numpy(dtype = 'float')\n",
    "x_test, y_test = test_data[:, :-1]/255, test_data[:, -1]\n",
    "y_test = one_hot_encoder(y_test.reshape((-1,1)))\n"
   ]
  },
  {
   "cell_type": "code",
   "execution_count": 20,
   "id": "dff7243e",
   "metadata": {},
   "outputs": [],
   "source": [
    "nns = []\n",
    "for n in [5,10,15,20,25]:\n",
    "    nnb = NeuralNetwork(x_train,y_train,[n],sigmoid,sigmoid_derivative)\n",
    "    nnb.train()\n",
    "    nns.append(nnb)"
   ]
  },
  {
   "cell_type": "code",
   "execution_count": 23,
   "id": "7cfe183b",
   "metadata": {},
   "outputs": [],
   "source": [
    "n = [5,10,15,20,25]\n",
    "train_scores = []\n",
    "test_scores = []\n",
    "for nn in nns:\n",
    "    train_scores.append(nn.accuracy(x_train,y_train))\n",
    "    test_scores.append(nn.accuracy(x_test,y_test))\n",
    "    "
   ]
  },
  {
   "cell_type": "code",
   "execution_count": 27,
   "id": "469ce334",
   "metadata": {},
   "outputs": [
    {
     "data": {
      "image/png": "[encoded data removed]",
      "text/plain": [
       "<Figure size 432x288 with 1 Axes>"
      ]
     },
     "metadata": {
      "needs_background": "light"
     },
     "output_type": "display_data"
    }
   ],
   "source": [
    "fig,ax = plt.subplots()\n",
    "ax.plot(n,train_scores)\n",
    "ax.plot(n,test_scores)\n",
    "plt.show()"
   ]
  },
  {
   "cell_type": "code",
   "execution_count": 31,
   "id": "7e8af869",
   "metadata": {},
   "outputs": [
    {
     "name": "stderr",
     "output_type": "stream",
     "text": [
      "100%|█████████████████████████████████████████████████████████████████████████████████████████████████████████████████████████████████████████| 5/5 [13:47<00:00, 165.52s/it]\n"
     ]
    }
   ],
   "source": [
    "nns_adaptive = []\n",
    "for i in tqdm.tqdm(n):\n",
    "    nnc = NeuralNetwork(x_train,y_train,[i],sigmoid,sigmoid_derivative,adaptive=True)\n",
    "    nnc.train()\n",
    "    nns_adaptive.append(nnc)"
   ]
  },
  {
   "cell_type": "code",
   "execution_count": 42,
   "id": "859ef4c1",
   "metadata": {},
   "outputs": [],
   "source": [
    "train_scores = []\n",
    "test_scores = []\n",
    "for nn in nns_adaptive:\n",
    "    train_scores.append(nn.accuracy(x_train,y_train))\n",
    "    test_scores.append(nn.accuracy(x_test,y_test))"
   ]
  },
  {
   "cell_type": "code",
   "execution_count": 43,
   "id": "8f601ae8",
   "metadata": {},
   "outputs": [
    {
     "data": {
      "image/png": "[encoded data removed]",
      "text/plain": [
       "<Figure size 432x288 with 1 Axes>"
      ]
     },
     "metadata": {
      "needs_background": "light"
     },
     "output_type": "display_data"
    }
   ],
   "source": [
    "fig,ax = plt.subplots()\n",
    "ax.plot(n,train_scores)\n",
    "ax.plot(n,test_scores)\n",
    "plt.show()"
   ]
  },
  {
   "cell_type": "code",
   "execution_count": 45,
   "id": "51e96f7d",
   "metadata": {},
   "outputs": [
    {
     "name": "stdout",
     "output_type": "stream",
     "text": [
      "0.95155\n",
      "0.8886\n",
      "0.68525\n",
      "0.6297\n"
     ]
    }
   ],
   "source": [
    "nnd_relu = NeuralNetwork(x_train,y_train,[100,100],relu,relu_derivative,adaptive=True)\n",
    "nnd_relu.train()\n",
    "nnd_sigmoid = NeuralNetwork(x_train,y_train,[100,100],sigmoid,sigmoid_derivative,adaptive=True)\n",
    "nnd_sigmoid.train()\n",
    "\n",
    "print(nnd_sigmoid.accuracy(x_train,y_train))\n",
    "print(nnd_sigmoid.accuracy(x_test,y_test))\n",
    "print(nnd_relu.accuracy(x_train,y_train))\n",
    "print(nnd_relu.accuracy(x_test,y_test))"
   ]
  }
 ],
 "metadata": {
  "kernelspec": {
   "display_name": "Python 3 (ipykernel)",
   "language": "python",
   "name": "python3"
  },
  "language_info": {
   "codemirror_mode": {
    "name": "ipython",
    "version": 3
   },
   "file_extension": ".py",
   "mimetype": "text/x-python",
   "name": "python",
   "nbconvert_exporter": "python",
   "pygments_lexer": "ipython3",
   "version": "3.9.12"
  }
 },
 "nbformat": 4,
 "nbformat_minor": 5
}
