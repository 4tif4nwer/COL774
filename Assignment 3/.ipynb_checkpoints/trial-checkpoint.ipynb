{
 "cells": [
  {
   "cell_type": "code",
   "execution_count": 1,
   "id": "de106867",
   "metadata": {},
   "outputs": [],
   "source": [
    "import numpy as np\n",
    "import pandas as pd\n",
    "import matplotlib.pyplot as plt\n",
    "from scipy.sparse import hstack,vstack\n",
    "from sklearn import tree\n",
    "from sklearn.ensemble import RandomForestClassifier\n",
    "from sklearn.model_selection import PredefinedSplit,GridSearchCV\n",
    "from sklearn.feature_extraction.text import CountVectorizer\n",
    "import xgboost as xgb\n",
    "from nltk.corpus import stopwords \n",
    "stop_words = set(stopwords.words('english'))\n",
    "import re"
   ]
  },
  {
   "cell_type": "code",
   "execution_count": 2,
   "id": "fcccbb1a",
   "metadata": {},
   "outputs": [],
   "source": [
    "def splitdate(df):\n",
    "    df['year'] = df['date'].dt.year\n",
    "    df['month'] = df['date'].dt.month\n",
    "    df['day'] = df['date'].dt.day\n",
    "\n",
    "full_train_data = pd.read_csv(\"D:/GitHub/COL774/Assignment 3/data/col774_drug_review/DrugsComTrain.csv\",parse_dates=['date'],na_filter=False)\n",
    "full_val_data = pd.read_csv(\"D:/GitHub/COL774/Assignment 3/data/col774_drug_review/DrugsComVal.csv\",parse_dates=['date'],na_filter=False)\n",
    "full_test_data = pd.read_csv(\"D:/GitHub/COL774/Assignment 3/data/col774_drug_review/DrugsComTest.csv\",parse_dates=['date'],na_filter=False)\n",
    "\n",
    "splitdate(full_train_data)\n",
    "splitdate(full_val_data)\n",
    "splitdate(full_test_data)\n"
   ]
  },
  {
   "cell_type": "code",
   "execution_count": 3,
   "id": "e5070623",
   "metadata": {},
   "outputs": [
    {
     "data": {
      "text/html": [
       "<div>\n",
       "<style scoped>\n",
       "    .dataframe tbody tr th:only-of-type {\n",
       "        vertical-align: middle;\n",
       "    }\n",
       "\n",
       "    .dataframe tbody tr th {\n",
       "        vertical-align: top;\n",
       "    }\n",
       "\n",
       "    .dataframe thead th {\n",
       "        text-align: right;\n",
       "    }\n",
       "</style>\n",
       "<table border=\"1\" class=\"dataframe\">\n",
       "  <thead>\n",
       "    <tr style=\"text-align: right;\">\n",
       "      <th></th>\n",
       "      <th>condition</th>\n",
       "      <th>review</th>\n",
       "      <th>rating</th>\n",
       "      <th>date</th>\n",
       "      <th>usefulCount</th>\n",
       "      <th>year</th>\n",
       "      <th>month</th>\n",
       "      <th>day</th>\n",
       "    </tr>\n",
       "  </thead>\n",
       "  <tbody>\n",
       "    <tr>\n",
       "      <th>0</th>\n",
       "      <td>Birth Control</td>\n",
       "      <td>\"I used to take another oral contraceptive, wh...</td>\n",
       "      <td>5</td>\n",
       "      <td>2009-12-14</td>\n",
       "      <td>17</td>\n",
       "      <td>2009</td>\n",
       "      <td>12</td>\n",
       "      <td>14</td>\n",
       "    </tr>\n",
       "    <tr>\n",
       "      <th>1</th>\n",
       "      <td>Birth Control</td>\n",
       "      <td>\"This is my first time using any form of birth...</td>\n",
       "      <td>8</td>\n",
       "      <td>2015-11-03</td>\n",
       "      <td>10</td>\n",
       "      <td>2015</td>\n",
       "      <td>11</td>\n",
       "      <td>3</td>\n",
       "    </tr>\n",
       "    <tr>\n",
       "      <th>2</th>\n",
       "      <td>Emergency Contraception</td>\n",
       "      <td>\"He pulled out, but he cummed a bit in me. I t...</td>\n",
       "      <td>1</td>\n",
       "      <td>2017-03-07</td>\n",
       "      <td>5</td>\n",
       "      <td>2017</td>\n",
       "      <td>3</td>\n",
       "      <td>7</td>\n",
       "    </tr>\n",
       "    <tr>\n",
       "      <th>3</th>\n",
       "      <td>Epilepsy</td>\n",
       "      <td>\" I Ve had  nothing but problems with the Kepp...</td>\n",
       "      <td>1</td>\n",
       "      <td>2016-08-09</td>\n",
       "      <td>11</td>\n",
       "      <td>2016</td>\n",
       "      <td>8</td>\n",
       "      <td>9</td>\n",
       "    </tr>\n",
       "    <tr>\n",
       "      <th>4</th>\n",
       "      <td>Birth Control</td>\n",
       "      <td>\"I had been on the pill for many years. When m...</td>\n",
       "      <td>8</td>\n",
       "      <td>2016-12-08</td>\n",
       "      <td>1</td>\n",
       "      <td>2016</td>\n",
       "      <td>12</td>\n",
       "      <td>8</td>\n",
       "    </tr>\n",
       "    <tr>\n",
       "      <th>...</th>\n",
       "      <td>...</td>\n",
       "      <td>...</td>\n",
       "      <td>...</td>\n",
       "      <td>...</td>\n",
       "      <td>...</td>\n",
       "      <td>...</td>\n",
       "      <td>...</td>\n",
       "      <td>...</td>\n",
       "    </tr>\n",
       "    <tr>\n",
       "      <th>112903</th>\n",
       "      <td>Anxiety</td>\n",
       "      <td>\"I was super against taking medication. I&amp;#039...</td>\n",
       "      <td>9</td>\n",
       "      <td>2016-08-16</td>\n",
       "      <td>61</td>\n",
       "      <td>2016</td>\n",
       "      <td>8</td>\n",
       "      <td>16</td>\n",
       "    </tr>\n",
       "    <tr>\n",
       "      <th>112904</th>\n",
       "      <td>Trigeminal Neuralgia</td>\n",
       "      <td>\"Up to 800mg seems to work about once every 2n...</td>\n",
       "      <td>1</td>\n",
       "      <td>2016-01-31</td>\n",
       "      <td>10</td>\n",
       "      <td>2016</td>\n",
       "      <td>1</td>\n",
       "      <td>31</td>\n",
       "    </tr>\n",
       "    <tr>\n",
       "      <th>112905</th>\n",
       "      <td>High Blood Pressure</td>\n",
       "      <td>\"I have only been on Tekturna for 9 days. The ...</td>\n",
       "      <td>7</td>\n",
       "      <td>2010-02-07</td>\n",
       "      <td>18</td>\n",
       "      <td>2010</td>\n",
       "      <td>2</td>\n",
       "      <td>7</td>\n",
       "    </tr>\n",
       "    <tr>\n",
       "      <th>112906</th>\n",
       "      <td>Birth Control</td>\n",
       "      <td>\"This would be my second month on Junel. I&amp;#03...</td>\n",
       "      <td>6</td>\n",
       "      <td>2015-05-27</td>\n",
       "      <td>0</td>\n",
       "      <td>2015</td>\n",
       "      <td>5</td>\n",
       "      <td>27</td>\n",
       "    </tr>\n",
       "    <tr>\n",
       "      <th>112907</th>\n",
       "      <td>Rheumatoid Arthritis</td>\n",
       "      <td>\"Limited improvement after 4 months, developed...</td>\n",
       "      <td>2</td>\n",
       "      <td>2014-03-15</td>\n",
       "      <td>35</td>\n",
       "      <td>2014</td>\n",
       "      <td>3</td>\n",
       "      <td>15</td>\n",
       "    </tr>\n",
       "  </tbody>\n",
       "</table>\n",
       "<p>112908 rows × 8 columns</p>\n",
       "</div>"
      ],
      "text/plain": [
       "                      condition  \\\n",
       "0                 Birth Control   \n",
       "1                 Birth Control   \n",
       "2       Emergency Contraception   \n",
       "3                      Epilepsy   \n",
       "4                 Birth Control   \n",
       "...                         ...   \n",
       "112903                  Anxiety   \n",
       "112904     Trigeminal Neuralgia   \n",
       "112905      High Blood Pressure   \n",
       "112906            Birth Control   \n",
       "112907     Rheumatoid Arthritis   \n",
       "\n",
       "                                                   review  rating       date  \\\n",
       "0       \"I used to take another oral contraceptive, wh...       5 2009-12-14   \n",
       "1       \"This is my first time using any form of birth...       8 2015-11-03   \n",
       "2       \"He pulled out, but he cummed a bit in me. I t...       1 2017-03-07   \n",
       "3       \" I Ve had  nothing but problems with the Kepp...       1 2016-08-09   \n",
       "4       \"I had been on the pill for many years. When m...       8 2016-12-08   \n",
       "...                                                   ...     ...        ...   \n",
       "112903  \"I was super against taking medication. I&#039...       9 2016-08-16   \n",
       "112904  \"Up to 800mg seems to work about once every 2n...       1 2016-01-31   \n",
       "112905  \"I have only been on Tekturna for 9 days. The ...       7 2010-02-07   \n",
       "112906  \"This would be my second month on Junel. I&#03...       6 2015-05-27   \n",
       "112907  \"Limited improvement after 4 months, developed...       2 2014-03-15   \n",
       "\n",
       "        usefulCount  year  month  day  \n",
       "0                17  2009     12   14  \n",
       "1                10  2015     11    3  \n",
       "2                 5  2017      3    7  \n",
       "3                11  2016      8    9  \n",
       "4                 1  2016     12    8  \n",
       "...             ...   ...    ...  ...  \n",
       "112903           61  2016      8   16  \n",
       "112904           10  2016      1   31  \n",
       "112905           18  2010      2    7  \n",
       "112906            0  2015      5   27  \n",
       "112907           35  2014      3   15  \n",
       "\n",
       "[112908 rows x 8 columns]"
      ]
     },
     "metadata": {},
     "output_type": "display_data"
    },
    {
     "name": "stdout",
     "output_type": "stream",
     "text": [
      "\"I used to take another oral contraceptive, which had 21 pill cycle, and was very happy- very light periods, max 5 days, no other side effects. But it contained hormone gestodene, which is not available in US, so I switched to Lybrel, because the ingredients are similar. When my other pills ended, I started Lybrel immediately, on my first day of period, as the instructions said. And the period lasted for two weeks. When taking the second pack- same two weeks. And now, with third pack things got even worse- my third period lasted for two weeks and now it&#039;s the end of the third week- I still have daily brown discharge.\r\n",
      "The positive side is that I didn&#039;t have any other side effects. The idea of being period free was so tempting... Alas.\"\n",
      "condition              object\n",
      "review                 object\n",
      "rating                  int64\n",
      "date           datetime64[ns]\n",
      "usefulCount             int64\n",
      "year                    int64\n",
      "month                   int64\n",
      "day                     int64\n",
      "dtype: object\n"
     ]
    }
   ],
   "source": [
    "display(full_train_data)\n",
    "print(full_train_data[\"review\"][0])\n",
    "print(full_train_data.dtypes)"
   ]
  },
  {
   "cell_type": "code",
   "execution_count": 3,
   "id": "d4834cb2",
   "metadata": {},
   "outputs": [],
   "source": [
    "def cleandata(x_train):\n",
    "    for i in range(len(x_train)):\n",
    "        s = x_train[i,1]\n",
    "        s = s.lower()\n",
    "        s = re.sub(r'[\\r\\n\"]', '', s)\n",
    "        s = s = re.sub(r\"[,.]\", ' ', s)\n",
    "        s = s = re.sub(r\"&#039;\", \"'\", s)\n",
    "        x_train[i,1] = s"
   ]
  },
  {
   "cell_type": "code",
   "execution_count": 4,
   "id": "409ec8b8",
   "metadata": {},
   "outputs": [],
   "source": [
    "x_train = full_train_data[[\"condition\",\"review\"]].copy().to_numpy()\n",
    "x_val = full_val_data[[\"condition\",\"review\"]].copy().to_numpy()\n",
    "x_test = full_test_data[[\"condition\",\"review\"]].copy().to_numpy()\n",
    "cleandata(x_train)\n",
    "cleandata(x_val)\n",
    "cleandata(x_test)"
   ]
  },
  {
   "cell_type": "code",
   "execution_count": 5,
   "id": "e23df063",
   "metadata": {},
   "outputs": [],
   "source": [
    "y_train = full_train_data[[\"rating\"]].copy().to_numpy()\n",
    "y_val = full_val_data[[\"rating\"]].copy().to_numpy()\n",
    "y_test = full_test_data[[\"rating\"]].copy().to_numpy()"
   ]
  },
  {
   "cell_type": "code",
   "execution_count": 6,
   "id": "df0f124d",
   "metadata": {},
   "outputs": [],
   "source": [
    "condition_encoder = CountVectorizer(stop_words=stop_words)\n",
    "reviews_encoder = CountVectorizer(stop_words=stop_words)\n",
    "train_reviews = reviews_encoder.fit_transform(x_train[:,1])\n",
    "train_conditions = condition_encoder.fit_transform(x_train[:,0])"
   ]
  },
  {
   "cell_type": "code",
   "execution_count": 7,
   "id": "4b42d093",
   "metadata": {},
   "outputs": [],
   "source": [
    "val_reviews = reviews_encoder.transform(x_val[:,1])\n",
    "test_reviews = reviews_encoder.transform(x_test[:,1])\n",
    "val_conditions = condition_encoder.transform(x_val[:,0])\n",
    "test_conditions = condition_encoder.transform(x_test[:,0])"
   ]
  },
  {
   "cell_type": "code",
   "execution_count": 8,
   "id": "36b3253b",
   "metadata": {},
   "outputs": [],
   "source": [
    "training_data = hstack((train_reviews,train_conditions,full_train_data[['year', 'month', 'day']].values))\n",
    "val_data = hstack((val_reviews,val_conditions,full_val_data[['year', 'month', 'day']].values))\n",
    "test_data = hstack((test_reviews,test_conditions,full_test_data[['year', 'month', 'day']].values))"
   ]
  },
  {
   "cell_type": "code",
   "execution_count": 10,
   "id": "27f465f6",
   "metadata": {},
   "outputs": [],
   "source": [
    "clf = tree.DecisionTreeClassifier(random_state=0,ccp_alpha=0.0005)\n",
    "clf = clf.fit(training_data, y_train)"
   ]
  },
  {
   "cell_type": "code",
   "execution_count": 11,
   "id": "4a53972b",
   "metadata": {},
   "outputs": [
    {
     "name": "stdout",
     "output_type": "stream",
     "text": [
      "0.9999557161582882\n",
      "0.5816197896216082\n",
      "0.5783766692705428\n"
     ]
    }
   ],
   "source": [
    "print(clf.score(training_data,y_train))\n",
    "print(clf.score(val_data,y_val))\n",
    "print(clf.score(test_data,y_test))"
   ]
  },
  {
   "cell_type": "code",
   "execution_count": 12,
   "id": "4749acf7",
   "metadata": {},
   "outputs": [
    {
     "name": "stdout",
     "output_type": "stream",
     "text": [
      "2\n"
     ]
    }
   ],
   "source": [
    "print(clf.min_samples_split)"
   ]
  },
  {
   "cell_type": "code",
   "execution_count": 13,
   "id": "b3cfc9bb",
   "metadata": {},
   "outputs": [],
   "source": [
    "from sklearn.model_selection import PredefinedSplit,GridSearchCV\n",
    "\n",
    "x_train_val_data = vstack((training_data,val_data))\n",
    "y_train_val_data = np.concatenate((y_train,y_val))\n",
    "\n",
    "split_index = [-1 if x < training_data.shape[0] else 0 for x in range(x_train_val_data.shape[0])]\n",
    "# print(x_train_data.shape)"
   ]
  },
  {
   "cell_type": "code",
   "execution_count": 14,
   "id": "a3456023",
   "metadata": {},
   "outputs": [],
   "source": [
    "pds = PredefinedSplit(test_fold = split_index)\n",
    "\n",
    "param_grid = [\n",
    "  {'max_depth': [i for i in range(1,300,50)], 'min_samples_split' : [i for i in range(2,20)], 'min_samples_leaf' : [i for i in range(1,20)]}  \n",
    " ]\n",
    "\n",
    "clf = GridSearchCV(estimator = tree.DecisionTreeClassifier(random_state=0),cv=pds,param_grid=param_grid)"
   ]
  },
  {
   "cell_type": "code",
   "execution_count": 15,
   "id": "163d862b",
   "metadata": {},
   "outputs": [
    {
     "data": {
      "text/plain": [
       "161297"
      ]
     },
     "execution_count": 15,
     "metadata": {},
     "output_type": "execute_result"
    }
   ],
   "source": [
    "len(split_index)"
   ]
  },
  {
   "cell_type": "markdown",
   "id": "0faa24c0",
   "metadata": {},
   "source": [
    "### Part b - GridSearch"
   ]
  },
  {
   "cell_type": "code",
   "execution_count": null,
   "id": "4fe01202",
   "metadata": {},
   "outputs": [],
   "source": [
    "clf = clf.fit(x_train_val_data, y_train_val_data)"
   ]
  },
  {
   "cell_type": "code",
   "execution_count": null,
   "id": "41ead7a8",
   "metadata": {},
   "outputs": [],
   "source": [
    "print(clf.best_estimator_)"
   ]
  },
  {
   "cell_type": "code",
   "execution_count": null,
   "id": "d7f272f1",
   "metadata": {},
   "outputs": [],
   "source": [
    "print(clf.best_estimator_.score(training_data,y_train))\n",
    "print(clf.best_estimator_.score(val_data,y_val))\n",
    "print(clf.best_estimator_.score(test_data,y_test))"
   ]
  },
  {
   "cell_type": "markdown",
   "id": "c0a1349f",
   "metadata": {},
   "source": [
    "### Part c - CCP"
   ]
  },
  {
   "cell_type": "code",
   "execution_count": 16,
   "id": "2bbe24d0",
   "metadata": {},
   "outputs": [],
   "source": [
    "clf = tree.DecisionTreeClassifier(random_state=0)\n",
    "clf = clf.fit(training_data, y_train)\n",
    "path = clf.cost_complexity_pruning_path(training_data, y_train)\n",
    "ccp_alphas, impurities = path.ccp_alphas, path.impurities"
   ]
  },
  {
   "cell_type": "code",
   "execution_count": 17,
   "id": "ca79c3cf",
   "metadata": {},
   "outputs": [
    {
     "data": {
      "text/plain": [
       "[<matplotlib.lines.Line2D at 0x272078f7d00>]"
      ]
     },
     "execution_count": 17,
     "metadata": {},
     "output_type": "execute_result"
    },
    {
     "data": {
      "image/png": "[encoded data removed]",
      "text/plain": [
       "<Figure size 1260x420 with 1 Axes>"
      ]
     },
     "metadata": {
      "needs_background": "light"
     },
     "output_type": "display_data"
    }
   ],
   "source": [
    "plt.rcParams['figure.dpi'] = 70\n",
    "plt.rcParams['figure.figsize']=[18,6]    \n",
    "plt.plot(ccp_alphas[:-1],impurities[:-1])"
   ]
  },
  {
   "cell_type": "code",
   "execution_count": 18,
   "id": "a372f34f",
   "metadata": {},
   "outputs": [
    {
     "name": "stdout",
     "output_type": "stream",
     "text": [
      "23992\n"
     ]
    }
   ],
   "source": [
    "print(len(ccp_alphas))"
   ]
  },
  {
   "cell_type": "code",
   "execution_count": null,
   "id": "76b224d7",
   "metadata": {},
   "outputs": [
    {
     "name": "stderr",
     "output_type": "stream",
     "text": [
      "  0%|                                                                          | 4/23992 [16:16<1628:22:15, 244.38s/it]"
     ]
    }
   ],
   "source": [
    "import tqdm\n",
    "clfs = []\n",
    "for ccp_alpha in tqdm.tqdm(ccp_alphas):\n",
    "    clf = tree.DecisionTreeClassifier(ccp_alpha=ccp_alpha)\n",
    "    clf.fit(training_data, y_train)\n",
    "    clfs.append(clf)"
   ]
  },
  {
   "cell_type": "code",
   "execution_count": null,
   "id": "551abb1e",
   "metadata": {},
   "outputs": [],
   "source": [
    "plt.rcParams['figure.dpi'] = 70\n",
    "plt.rcParams['figure.figsize']=[18,12]\n",
    "# clfs = clfs[:-1]\n",
    "# ccp_alphas = ccp_alphas[:-1]\n",
    "\n",
    "node_counts = [clf.tree_.node_count for clf in clfs]\n",
    "depth = [clf.tree_.max_depth for clf in clfs]\n",
    "fig, ax = plt.subplots(2, 1)\n",
    "ax[0].plot(ccp_alphas[:-1], node_counts[:-1], marker=\"o\", drawstyle=\"steps-post\")\n",
    "ax[0].set_xlabel(\"alpha\")\n",
    "ax[0].set_ylabel(\"number of nodes\")\n",
    "ax[0].set_title(\"Number of nodes vs alpha\")\n",
    "ax[1].plot(ccp_alphas[:-1], depth[:-1], marker=\"o\", drawstyle=\"steps-post\")\n",
    "ax[1].set_xlabel(\"alpha\")\n",
    "ax[1].set_ylabel(\"depth of tree\")\n",
    "ax[1].set_title(\"Depth vs alpha\")\n",
    "fig.tight_layout()"
   ]
  },
  {
   "cell_type": "code",
   "execution_count": null,
   "id": "481a4017",
   "metadata": {},
   "outputs": [],
   "source": [
    "train_scores = [clf.score(training_data, y_train) for clf in clfs[:-1]]\n",
    "val_scores = [clf.score(val_data,y_val) for clf in clfs[:-1]]\n",
    "test_scores = [clf.score(test_data,y_test) for clf in clfs[:-1]]\n",
    "\n",
    "fig, ax = plt.subplots()\n",
    "ax.set_xlabel(\"alpha\")\n",
    "ax.set_ylabel(\"accuracy\")\n",
    "ax.set_title(\"Accuracy vs alpha for training and testing sets\")\n",
    "ax.plot(ccp_alphas[:-1], train_scores, marker=\"o\", label=\"train\", drawstyle=\"steps-post\")\n",
    "ax.plot(ccp_alphas[:-1], val_scores, marker=\"o\", label=\"validation\", drawstyle=\"steps-post\")\n",
    "ax.plot(ccp_alphas[:-1], test_scores, marker=\"o\", label=\"test\", drawstyle=\"steps-post\")\n",
    "ax.legend()\n",
    "plt.show()"
   ]
  },
  {
   "cell_type": "code",
   "execution_count": null,
   "id": "ee7adfb5",
   "metadata": {},
   "outputs": [],
   "source": [
    "print(test_scores[np.argsort(val_scores)[-1]])"
   ]
  },
  {
   "cell_type": "code",
   "execution_count": null,
   "id": "597b7814",
   "metadata": {},
   "outputs": [],
   "source": []
  }
 ],
 "metadata": {
  "kernelspec": {
   "display_name": "Python 3",
   "language": "python",
   "name": "python3"
  },
  "language_info": {
   "codemirror_mode": {
    "name": "ipython",
    "version": 3
   },
   "file_extension": ".py",
   "mimetype": "text/x-python",
   "name": "python",
   "nbconvert_exporter": "python",
   "pygments_lexer": "ipython3",
   "version": "3.8.8"
  }
 },
 "nbformat": 4,
 "nbformat_minor": 5
}
