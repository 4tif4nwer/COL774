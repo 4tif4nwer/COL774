{
 "cells": [
  {
   "cell_type": "code",
   "execution_count": 1,
   "id": "de106867",
   "metadata": {},
   "outputs": [],
   "source": [
    "import numpy as np\n",
    "import pandas as pd\n",
    "import matplotlib.pyplot as plt\n",
    "from scipy.sparse import hstack,vstack\n",
    "from sklearn import tree\n",
    "from sklearn.ensemble import RandomForestClassifier\n",
    "from sklearn.model_selection import PredefinedSplit,GridSearchCV\n",
    "from sklearn.feature_extraction.text import CountVectorizer\n",
    "import xgboost as xgb\n",
    "from nltk.corpus import stopwords \n",
    "stop_words = set(stopwords.words('english'))\n",
    "import re\n",
    "import os"
   ]
  },
  {
   "cell_type": "code",
   "execution_count": 2,
   "id": "fcccbb1a",
   "metadata": {},
   "outputs": [],
   "source": [
    "def splitdate(df):\n",
    "    df['year'] = df['date'].dt.year\n",
    "    df['month'] = df['date'].dt.month\n",
    "    df['day'] = df['date'].dt.day\n",
    "# os.listdir()\n",
    "full_train_data = pd.read_csv(f'data/COL774_drug_review/DrugsComTrain.csv',parse_dates=['date'],na_filter=False)\n",
    "full_val_data = pd.read_csv(\"data/COL774_drug_review/DrugsComVal.csv\",parse_dates=['date'],na_filter=False)\n",
    "full_test_data = pd.read_csv(\"data/COL774_drug_review/DrugsComTest.csv\",parse_dates=['date'],na_filter=False)\n",
    "\n",
    "splitdate(full_train_data)\n",
    "splitdate(full_val_data)\n",
    "splitdate(full_test_data)\n"
   ]
  },
  {
   "cell_type": "code",
   "execution_count": 3,
   "id": "d4834cb2",
   "metadata": {},
   "outputs": [],
   "source": [
    "def cleandata(x_train):\n",
    "    for i in range(len(x_train)):\n",
    "        s = x_train[i,1]\n",
    "        s = s.lower()\n",
    "        s = re.sub(r'[\\r\\n\"]', '', s)\n",
    "        s = s = re.sub(r\"[,.]\", ' ', s)\n",
    "        s = s = re.sub(r\"&#039;\", \"'\", s)\n",
    "        x_train[i,1] = s"
   ]
  },
  {
   "cell_type": "code",
   "execution_count": 4,
   "id": "409ec8b8",
   "metadata": {},
   "outputs": [],
   "source": [
    "x_train = full_train_data[[\"condition\",\"review\"]].copy().to_numpy()\n",
    "x_val = full_val_data[[\"condition\",\"review\"]].copy().to_numpy()\n",
    "x_test = full_test_data[[\"condition\",\"review\"]].copy().to_numpy()\n",
    "cleandata(x_train)\n",
    "cleandata(x_val)\n",
    "cleandata(x_test)"
   ]
  },
  {
   "cell_type": "code",
   "execution_count": 5,
   "id": "e23df063",
   "metadata": {},
   "outputs": [],
   "source": [
    "y_train = full_train_data[[\"rating\"]].copy().to_numpy()\n",
    "y_val = full_val_data[[\"rating\"]].copy().to_numpy()\n",
    "y_test = full_test_data[[\"rating\"]].copy().to_numpy()"
   ]
  },
  {
   "cell_type": "code",
   "execution_count": 6,
   "id": "df0f124d",
   "metadata": {},
   "outputs": [],
   "source": [
    "condition_encoder = CountVectorizer(stop_words=stop_words)\n",
    "reviews_encoder = CountVectorizer(stop_words=stop_words)\n",
    "train_reviews = reviews_encoder.fit_transform(x_train[:,1])\n",
    "train_conditions = condition_encoder.fit_transform(x_train[:,0])"
   ]
  },
  {
   "cell_type": "code",
   "execution_count": 7,
   "id": "4b42d093",
   "metadata": {},
   "outputs": [],
   "source": [
    "val_reviews = reviews_encoder.transform(x_val[:,1])\n",
    "test_reviews = reviews_encoder.transform(x_test[:,1])\n",
    "val_conditions = condition_encoder.transform(x_val[:,0])\n",
    "test_conditions = condition_encoder.transform(x_test[:,0])"
   ]
  },
  {
   "cell_type": "code",
   "execution_count": 8,
   "id": "36b3253b",
   "metadata": {},
   "outputs": [],
   "source": [
    "training_data = hstack((train_reviews,train_conditions,full_train_data[['year', 'month', 'day','usefulCount']].values))\n",
    "val_data = hstack((val_reviews,val_conditions,full_val_data[['year', 'month', 'day','usefulCount']].values))\n",
    "test_data = hstack((test_reviews,test_conditions,full_test_data[['year', 'month', 'day','usefulCount']].values))"
   ]
  },
  {
   "cell_type": "code",
   "execution_count": null,
   "id": "27f465f6",
   "metadata": {},
   "outputs": [],
   "source": [
    "import time\n",
    "start = time.time()\n",
    "clf = tree.DecisionTreeClassifier(random_state=0)\n",
    "clf = clf.fit(training_data, y_train)\n",
    "end = time.time()\n",
    "print(end-start)"
   ]
  },
  {
   "cell_type": "code",
   "execution_count": 20,
   "id": "4a53972b",
   "metadata": {},
   "outputs": [
    {
     "name": "stdout",
     "output_type": "stream",
     "text": [
      "1.0\n",
      "0.5797185310711112\n",
      "0.5755682029535394\n"
     ]
    }
   ],
   "source": [
    "print(clf.score(training_data,y_train))\n",
    "print(clf.score(val_data,y_val))\n",
    "print(clf.score(test_data,y_test))"
   ]
  },
  {
   "cell_type": "code",
   "execution_count": 12,
   "id": "4749acf7",
   "metadata": {},
   "outputs": [
    {
     "name": "stdout",
     "output_type": "stream",
     "text": [
      "201\n"
     ]
    }
   ],
   "source": [
    "print(clf.tree_.max_depth)"
   ]
  },
  {
   "cell_type": "code",
   "execution_count": 28,
   "id": "b3cfc9bb",
   "metadata": {},
   "outputs": [],
   "source": [
    "from sklearn.model_selection import PredefinedSplit,GridSearchCV\n",
    "\n",
    "x_train_val_data = vstack((training_data,val_data))\n",
    "y_train_val_data = np.concatenate((y_train,y_val))\n",
    "\n",
    "# split_index = [-1 if x < training_data.shape[0] else 0 for x in range(x_train_val_data.shape[0])]\n",
    "# print(x_train_data.shape)"
   ]
  },
  {
   "cell_type": "code",
   "execution_count": 9,
   "id": "905c72f6",
   "metadata": {},
   "outputs": [],
   "source": [
    "def traindtree(params):\n",
    "    clf = tree.DecisionTreeClassifier(max_depth = params[0],min_samples_split = params[1],min_samples_leaf = params[2])\n",
    "    clf.fit(training_data, y_train)\n",
    "    return clf"
   ]
  },
  {
   "cell_type": "code",
   "execution_count": 18,
   "id": "5e566f9c",
   "metadata": {},
   "outputs": [
    {
     "data": {
      "text/plain": [
       "[[(100, 2, 1),\n",
       "  (100, 2, 3),\n",
       "  (100, 2, 5),\n",
       "  (100, 2, 7),\n",
       "  (100, 2, 9),\n",
       "  (100, 4, 1),\n",
       "  (100, 4, 3),\n",
       "  (100, 4, 5),\n",
       "  (100, 4, 7),\n",
       "  (100, 4, 9),\n",
       "  (100, 6, 1),\n",
       "  (100, 6, 3)],\n",
       " [(100, 6, 5),\n",
       "  (100, 6, 7),\n",
       "  (100, 6, 9),\n",
       "  (100, 8, 1),\n",
       "  (100, 8, 3),\n",
       "  (100, 8, 5),\n",
       "  (100, 8, 7),\n",
       "  (100, 8, 9),\n",
       "  (120, 2, 1),\n",
       "  (120, 2, 3),\n",
       "  (120, 2, 5),\n",
       "  (120, 2, 7)],\n",
       " [(120, 2, 9),\n",
       "  (120, 4, 1),\n",
       "  (120, 4, 3),\n",
       "  (120, 4, 5),\n",
       "  (120, 4, 7),\n",
       "  (120, 4, 9),\n",
       "  (120, 6, 1),\n",
       "  (120, 6, 3),\n",
       "  (120, 6, 5),\n",
       "  (120, 6, 7),\n",
       "  (120, 6, 9),\n",
       "  (120, 8, 1)],\n",
       " [(120, 8, 3),\n",
       "  (120, 8, 5),\n",
       "  (120, 8, 7),\n",
       "  (120, 8, 9),\n",
       "  (140, 2, 1),\n",
       "  (140, 2, 3),\n",
       "  (140, 2, 5),\n",
       "  (140, 2, 7),\n",
       "  (140, 2, 9),\n",
       "  (140, 4, 1),\n",
       "  (140, 4, 3),\n",
       "  (140, 4, 5)],\n",
       " [(140, 4, 7),\n",
       "  (140, 4, 9),\n",
       "  (140, 6, 1),\n",
       "  (140, 6, 3),\n",
       "  (140, 6, 5),\n",
       "  (140, 6, 7),\n",
       "  (140, 6, 9),\n",
       "  (140, 8, 1),\n",
       "  (140, 8, 3),\n",
       "  (140, 8, 5),\n",
       "  (140, 8, 7),\n",
       "  (140, 8, 9)],\n",
       " [(160, 2, 1),\n",
       "  (160, 2, 3),\n",
       "  (160, 2, 5),\n",
       "  (160, 2, 7),\n",
       "  (160, 2, 9),\n",
       "  (160, 4, 1),\n",
       "  (160, 4, 3),\n",
       "  (160, 4, 5),\n",
       "  (160, 4, 7),\n",
       "  (160, 4, 9),\n",
       "  (160, 6, 1),\n",
       "  (160, 6, 3)],\n",
       " [(160, 6, 5),\n",
       "  (160, 6, 7),\n",
       "  (160, 6, 9),\n",
       "  (160, 8, 1),\n",
       "  (160, 8, 3),\n",
       "  (160, 8, 5),\n",
       "  (160, 8, 7),\n",
       "  (160, 8, 9),\n",
       "  (180, 2, 1),\n",
       "  (180, 2, 3),\n",
       "  (180, 2, 5),\n",
       "  (180, 2, 7)],\n",
       " [(180, 2, 9),\n",
       "  (180, 4, 1),\n",
       "  (180, 4, 3),\n",
       "  (180, 4, 5),\n",
       "  (180, 4, 7),\n",
       "  (180, 4, 9),\n",
       "  (180, 6, 1),\n",
       "  (180, 6, 3),\n",
       "  (180, 6, 5),\n",
       "  (180, 6, 7),\n",
       "  (180, 6, 9),\n",
       "  (180, 8, 1)],\n",
       " [(180, 8, 3),\n",
       "  (180, 8, 5),\n",
       "  (180, 8, 7),\n",
       "  (180, 8, 9),\n",
       "  (200, 2, 1),\n",
       "  (200, 2, 3),\n",
       "  (200, 2, 5),\n",
       "  (200, 2, 7),\n",
       "  (200, 2, 9),\n",
       "  (200, 4, 1),\n",
       "  (200, 4, 3),\n",
       "  (200, 4, 5)],\n",
       " [(200, 4, 7),\n",
       "  (200, 4, 9),\n",
       "  (200, 6, 1),\n",
       "  (200, 6, 3),\n",
       "  (200, 6, 5),\n",
       "  (200, 6, 7),\n",
       "  (200, 6, 9),\n",
       "  (200, 8, 1),\n",
       "  (200, 8, 3),\n",
       "  (200, 8, 5),\n",
       "  (200, 8, 7),\n",
       "  (200, 8, 9)]]"
      ]
     },
     "execution_count": 18,
     "metadata": {},
     "output_type": "execute_result"
    }
   ],
   "source": [
    "chunker(combinations,12)"
   ]
  },
  {
   "cell_type": "code",
   "execution_count": 10,
   "id": "a3456023",
   "metadata": {
    "scrolled": false
   },
   "outputs": [
    {
     "name": "stdout",
     "output_type": "stream",
     "text": [
      "270\n"
     ]
    }
   ],
   "source": [
    "# pds = PredefinedSplit(test_fold = split_index)\n",
    "\n",
    "param_grid =  {'max_depth': [i for i in range(150,201,10)], 'min_samples_split' : [i for i in range(2,20,4)], 'min_samples_leaf' : [i for i in range(1,10,1)]}  \n",
    " \n",
    "\n",
    "# clf = GridSearchCV(estimator = tree.DecisionTreeClassifier(random_state=0),cv=pds,param_grid=param_grid)\n",
    "import itertools\n",
    "a = param_grid.values()\n",
    "combinations = list(itertools.product(*a))\n",
    "print(len(combinations))"
   ]
  },
  {
   "cell_type": "code",
   "execution_count": null,
   "id": "86a03bbf",
   "metadata": {},
   "outputs": [
    {
     "name": "stderr",
     "output_type": "stream",
     "text": [
      " 22%|████████▉                                | 5/23 [44:33<3:04:42, 615.69s/it]"
     ]
    }
   ],
   "source": [
    "def chunker(seq, size):\n",
    "    return [seq[pos:pos + size] for pos in range(0, len(seq), size)]\n",
    "from multiprocessing import Pool\n",
    "import tqdm\n",
    "import os\n",
    "import pickle\n",
    "gridclfs = []\n",
    "with Pool() as p:\n",
    "    for param in tqdm.tqdm(chunker(combinations,12)):\n",
    "        gridclfs.append(p.map(traindtree,param))"
   ]
  },
  {
   "cell_type": "code",
   "execution_count": 27,
   "id": "6a02a8e1",
   "metadata": {},
   "outputs": [],
   "source": [
    "clf_flat = [item for sublist in gridclfs for item in sublist]\n",
    "gridclfs = clf_flat\n",
    "pickle.dump(gridclfs, open(f\"gridrdtree_pickle\", 'wb'))"
   ]
  },
  {
   "cell_type": "code",
   "execution_count": 28,
   "id": "fd9579c9",
   "metadata": {},
   "outputs": [],
   "source": [
    "train_scores = [clf.score(training_data, y_train) for clf in gridclfs]\n",
    "val_scores = [clf.score(val_data,y_val) for clf in gridclfs]\n",
    "test_scores = [clf.score(test_data,y_test) for clf in gridclfs]"
   ]
  },
  {
   "cell_type": "code",
   "execution_count": 32,
   "id": "39e26492",
   "metadata": {},
   "outputs": [
    {
     "data": {
      "text/plain": [
       "0.5758657887884536"
      ]
     },
     "execution_count": 32,
     "metadata": {},
     "output_type": "execute_result"
    }
   ],
   "source": [
    "test_scores[np.argsort(val_scores)[-1]]"
   ]
  },
  {
   "cell_type": "code",
   "execution_count": 30,
   "id": "163d862b",
   "metadata": {},
   "outputs": [
    {
     "data": {
      "text/plain": [
       "161297"
      ]
     },
     "execution_count": 30,
     "metadata": {},
     "output_type": "execute_result"
    }
   ],
   "source": [
    "len(split_index)"
   ]
  },
  {
   "cell_type": "markdown",
   "id": "1a1d2b83",
   "metadata": {},
   "source": [
    "### Part b - GridSearch"
   ]
  },
  {
   "cell_type": "code",
   "execution_count": null,
   "id": "4fe01202",
   "metadata": {},
   "outputs": [],
   "source": [
    "clf = clf.fit(x_train_val_data, y_train_val_data)"
   ]
  },
  {
   "cell_type": "code",
   "execution_count": null,
   "id": "41ead7a8",
   "metadata": {},
   "outputs": [],
   "source": [
    "print(clf.best_estimator_)"
   ]
  },
  {
   "cell_type": "code",
   "execution_count": null,
   "id": "d7f272f1",
   "metadata": {},
   "outputs": [],
   "source": [
    "print(clf.best_estimator_.score(training_data,y_train))\n",
    "print(clf.best_estimator_.score(val_data,y_val))\n",
    "print(clf.best_estimator_.score(test_data,y_test))"
   ]
  },
  {
   "cell_type": "markdown",
   "id": "b3ae70df",
   "metadata": {},
   "source": [
    "### Part c - CCP"
   ]
  },
  {
   "cell_type": "code",
   "execution_count": 11,
   "id": "51f7c48b",
   "metadata": {},
   "outputs": [],
   "source": [
    "clf = tree.DecisionTreeClassifier(random_state=0)\n",
    "clf = clf.fit(training_data, y_train)\n",
    "path = clf.cost_complexity_pruning_path(training_data, y_train)\n",
    "ccp_alphas, impurities = path.ccp_alphas, path.impurities"
   ]
  },
  {
   "cell_type": "code",
   "execution_count": 12,
   "id": "eb161cdc",
   "metadata": {},
   "outputs": [
    {
     "data": {
      "text/plain": [
       "[<matplotlib.lines.Line2D at 0x7f0273ffebb0>]"
      ]
     },
     "execution_count": 12,
     "metadata": {},
     "output_type": "execute_result"
    },
    {
     "data": {
      "image/png": "[encoded data removed]",
      "text/plain": [
       "<Figure size 1260x420 with 1 Axes>"
      ]
     },
     "metadata": {
      "needs_background": "light"
     },
     "output_type": "display_data"
    }
   ],
   "source": [
    "plt.rcParams['figure.dpi'] = 70\n",
    "plt.rcParams['figure.figsize']=[18,6]    \n",
    "plt.plot(ccp_alphas[:-1],impurities[:-1])"
   ]
  },
  {
   "cell_type": "code",
   "execution_count": 12,
   "id": "410d060e",
   "metadata": {},
   "outputs": [],
   "source": [
    "ccp_samples = [ccp_alphas[i] for i in range(0,len(ccp_alphas),50)]\n",
    "ccp_alphas = ccp_samples\n"
   ]
  },
  {
   "cell_type": "code",
   "execution_count": 13,
   "id": "2cda0f7f",
   "metadata": {},
   "outputs": [
    {
     "name": "stdout",
     "output_type": "stream",
     "text": [
      "479\n"
     ]
    }
   ],
   "source": [
    "print(len(ccp_alphas))"
   ]
  },
  {
   "cell_type": "code",
   "execution_count": 19,
   "id": "07cf8936",
   "metadata": {},
   "outputs": [
    {
     "name": "stdout",
     "output_type": "stream",
     "text": [
      "12\n"
     ]
    }
   ],
   "source": [
    "print(os.cpu_count())"
   ]
  },
  {
   "cell_type": "code",
   "execution_count": null,
   "id": "abcfa77e",
   "metadata": {},
   "outputs": [],
   "source": [
    "from multiprocessing import Pool\n",
    "import tqdm\n",
    "import pickle\n",
    "def chunker(seq, size):\n",
    "    return [seq[pos:pos + size] for pos in range(0, len(seq), size)]\n",
    "def trainmodel(ccp_alpha):\n",
    "    clf = tree.DecisionTreeClassifier(ccp_alpha=ccp_alpha)\n",
    "    clf.fit(training_data, y_train)\n",
    "    return clf\n",
    "        \n",
    "clfs = []\n",
    "with Pool() as p:\n",
    "    for ccp_alpha in tqdm.tqdm(chunker(ccp_alphas,12)):\n",
    "#         start = time.time()\n",
    "        clfs.append(p.map(trainmodel,ccp_alpha))\n",
    "        pickle.dump(clfs[-1], open(f\"model{j}_clf_pickle\", 'wb'))\n",
    "#         end = time.time()\n",
    "#         print(end-start)"
   ]
  },
  {
   "cell_type": "code",
   "execution_count": 9,
   "id": "785c52af",
   "metadata": {},
   "outputs": [
    {
     "name": "stdout",
     "output_type": "stream",
     "text": [
      "479\n"
     ]
    }
   ],
   "source": [
    "import pickle\n",
    "clfs = pickle.load(open(\"allmodel_clf_pickle\", 'rb'))\n",
    "print(len(clfs))"
   ]
  },
  {
   "cell_type": "code",
   "execution_count": 25,
   "id": "ff94ec55",
   "metadata": {},
   "outputs": [],
   "source": [
    "clf_flat = [item for sublist in clfs for item in sublist]\n",
    "clfs = clf_flat"
   ]
  },
  {
   "cell_type": "code",
   "execution_count": 23,
   "id": "86b88b60",
   "metadata": {},
   "outputs": [
    {
     "data": {
      "image/png": "[encoded data removed]",
      "text/plain": [
       "<Figure size 1260x840 with 2 Axes>"
      ]
     },
     "metadata": {
      "needs_background": "light"
     },
     "output_type": "display_data"
    }
   ],
   "source": [
    "plt.rcParams['figure.dpi'] = 70\n",
    "plt.rcParams['figure.figsize']=[18,12]\n",
    "# clfs = clfs[:-1]\n",
    "# ccp_alphas = ccp_alphas[:-1]\n",
    "\n",
    "node_counts = [clf.tree_.node_count for clf in clfs]\n",
    "depth = [clf.tree_.max_depth for clf in clfs]\n",
    "fig, ax = plt.subplots(2, 1)\n",
    "ax[0].plot(ccp_alphas[:-10], node_counts[:-10], marker=\"o\", drawstyle=\"steps-post\")\n",
    "ax[0].set_xlabel(\"alpha\")\n",
    "ax[0].set_ylabel(\"number of nodes\")\n",
    "ax[0].set_title(\"Number of nodes vs alpha\")\n",
    "ax[1].plot(ccp_alphas[:-10], depth[:-10], marker=\"o\", drawstyle=\"steps-post\")\n",
    "ax[1].set_xlabel(\"alpha\")\n",
    "ax[1].set_ylabel(\"depth of tree\")\n",
    "ax[1].set_title(\"Depth vs alpha\")\n",
    "fig.tight_layout()"
   ]
  },
  {
   "cell_type": "code",
   "execution_count": 21,
   "id": "85aa9e6b",
   "metadata": {},
   "outputs": [
    {
     "data": {
      "image/png": "[encoded data removed]",
      "text/plain": [
       "<Figure size 1260x840 with 1 Axes>"
      ]
     },
     "metadata": {
      "needs_background": "light"
     },
     "output_type": "display_data"
    }
   ],
   "source": [
    "train_scores = [clf.score(training_data, y_train) for clf in clfs]\n",
    "val_scores = [clf.score(val_data,y_val) for clf in clfs]\n",
    "test_scores = [clf.score(test_data,y_test) for clf in clfs]\n",
    "\n",
    "fig, ax = plt.subplots()\n",
    "ax.set_xlabel(\"alpha\")\n",
    "ax.set_ylabel(\"accuracy\")\n",
    "ax.set_title(\"Accuracy vs alpha for training and testing sets\")\n",
    "ax.plot(ccp_alphas[:-10], train_scores[:-10], marker=\"o\", label=\"train\", drawstyle=\"steps-post\")\n",
    "ax.plot(ccp_alphas[:-10], val_scores[:-10], marker=\"o\", label=\"validation\", drawstyle=\"steps-post\")\n",
    "ax.plot(ccp_alphas[:-10], test_scores[:-10], marker=\"o\", label=\"test\", drawstyle=\"steps-post\")\n",
    "ax.legend()\n",
    "plt.show()"
   ]
  },
  {
   "cell_type": "code",
   "execution_count": 24,
   "id": "c059f31b",
   "metadata": {},
   "outputs": [
    {
     "name": "stdout",
     "output_type": "stream",
     "text": [
      "0.5778186958300785\n"
     ]
    }
   ],
   "source": [
    "print(test_scores[np.argsort(val_scores)[-1]])"
   ]
  },
  {
   "cell_type": "code",
   "execution_count": 9,
   "id": "97e61926",
   "metadata": {},
   "outputs": [],
   "source": [
    "# from sklearn.model_selection import PredefinedSplit,GridSearchCV\n",
    "\n",
    "# x_train_val_data = vstack((training_data,val_data))\n",
    "# y_train_val_data = np.concatenate((y_train,y_val))\n",
    "\n",
    "# split_index = [-1 if x < training_data.shape[0] else 0 for x in range(x_train_val_data.shape[0])]\n",
    "# # print(x_train_data.shape)\n",
    "\n",
    "# pds = PredefinedSplit(test_fold = split_index)\n",
    "\n",
    "param_grid =   {'n_estimators': range(50,451,50), 'max_features' : [0.4,0.5,0.6,0.7,0.8], 'min_samples_split' : [i for i in [2,4,6,8,10]]}  \n",
    " \n",
    "\n",
    "# clf = GridSearchCV(estimator = RandomForestClassifier(oob_score = True),cv=pds,param_grid=param_grid)\n",
    "# clf.fit(x_train_val_data, y_train_val_data.reshape((-1,)))"
   ]
  },
  {
   "cell_type": "code",
   "execution_count": 14,
   "id": "5567a3de",
   "metadata": {
    "scrolled": true
   },
   "outputs": [
    {
     "name": "stdout",
     "output_type": "stream",
     "text": [
      "120\n"
     ]
    }
   ],
   "source": [
    "import itertools\n",
    "a = param_grid.values()\n",
    "combinations = list(itertools.product(*a))\n",
    "print(len(combinations))"
   ]
  },
  {
   "cell_type": "code",
   "execution_count": 24,
   "id": "7db13f9b",
   "metadata": {},
   "outputs": [],
   "source": [
    "def chunker(seq, size):\n",
    "    return [seq[pos:pos + size] for pos in range(0, len(seq), size)]\n",
    "def trainrf(params):\n",
    "    clf = RandomForestClassifier(n_estimators = params[0],max_features = params[1],min_samples_split = params[2],oob_score = True)\n",
    "    clf.fit(training_data, y_train.reshape(-1,))\n",
    "    return clf"
   ]
  },
  {
   "cell_type": "code",
   "execution_count": 12,
   "id": "a5571a9a",
   "metadata": {},
   "outputs": [],
   "source": [
    "import time\n",
    "start  = time.time()\n",
    "clf = RandomForestClassifier(oob_score = True)\n",
    "clf.fit(training_data, y_train.reshape(-1,))\n",
    "end = time.time()"
   ]
  },
  {
   "cell_type": "code",
   "execution_count": 13,
   "id": "3d80f541",
   "metadata": {},
   "outputs": [
    {
     "data": {
      "text/plain": [
       "403.7724857330322"
      ]
     },
     "execution_count": 13,
     "metadata": {},
     "output_type": "execute_result"
    }
   ],
   "source": [
    "end-start"
   ]
  },
  {
   "cell_type": "code",
   "execution_count": null,
   "id": "eb8432d7",
   "metadata": {},
   "outputs": [
    {
     "name": "stderr",
     "output_type": "stream",
     "text": [
      "\r\n",
      "  0%|                                                    | 0/38 [00:00<?, ?it/s]"
     ]
    }
   ],
   "source": [
    "from multiprocessing import Pool\n",
    "import tqdm\n",
    "import pickle\n",
    "gridclfs = []\n",
    "with Pool() as p:\n",
    "    for param in tqdm.tqdm(chunker(combinations,6)):\n",
    "        gridclfs.append(p.map(trainrf,param))"
   ]
  },
  {
   "cell_type": "code",
   "execution_count": null,
   "id": "9cc1b634",
   "metadata": {},
   "outputs": [],
   "source": [
    "clf_flat = [item for sublist in gridclfs for item in sublist]\n",
    "gridclfs = clf_flat\n",
    "pickle.dump(gridclfs, open(f\"gridrfs_pickle\", 'wb'))"
   ]
  },
  {
   "cell_type": "markdown",
   "id": "77d66633",
   "metadata": {},
   "source": [
    "### XGBOOST"
   ]
  },
  {
   "cell_type": "code",
   "execution_count": 9,
   "id": "e72e1f83",
   "metadata": {},
   "outputs": [
    {
     "name": "stdout",
     "output_type": "stream",
     "text": [
      "180\n"
     ]
    }
   ],
   "source": [
    "param_grid = {'n_estimators': range(50,451,50), 'max_depth' : [40,50,60,70], 'subsample' : [0.4,0.5,0.6,0.7,0.8]}  \n",
    "import itertools\n",
    "a = param_grid.values()\n",
    "combinations = list(itertools.product(*a))\n",
    "print(len(combinations))\n"
   ]
  },
  {
   "cell_type": "code",
   "execution_count": 18,
   "id": "16af2e4a",
   "metadata": {},
   "outputs": [],
   "source": [
    "from sklearn.preprocessing import LabelEncoder\n",
    "le = LabelEncoder()\n",
    "xgb_y_train = le.fit_transform(y_train.reshape(-1,))\n",
    "xgb_y_val = le.fit_transform(y_val.reshape(-1,))\n",
    "xgb_y_test = le.fit_transform(y_test.reshape(-1,))"
   ]
  },
  {
   "cell_type": "code",
   "execution_count": 11,
   "id": "363facb6",
   "metadata": {},
   "outputs": [],
   "source": [
    "import xgboost as xgb\n",
    "def trainxgb(params):\n",
    "    clf = xgb.XGBClassifier(n_estimators = params[0],max_depth = params[1],subsample = params[2])\n",
    "    clf.fit(training_data, xgb_y_train)\n",
    "    return clf"
   ]
  },
  {
   "cell_type": "code",
   "execution_count": 28,
   "id": "de0cfadb",
   "metadata": {},
   "outputs": [
    {
     "name": "stdout",
     "output_type": "stream",
     "text": [
      "[20:30:38] WARNING: ../src/learner.cc:248: No visible GPU is found, setting `gpu_id` to -1\n"
     ]
    },
    {
     "ename": "XGBoostError",
     "evalue": "[20:30:38] ../src/gbm/gbtree.cc:597: Check failed: common::AllVisibleGPUs() >= 1 (0 vs. 1) : No visible GPU is found for XGBoost.\nStack trace:\n  [bt] (0) /home/atifanwer/anaconda3/lib/python3.9/site-packages/xgboost/lib/libxgboost.so(+0x1e4459) [0x7f55205e4459]\n  [bt] (1) /home/atifanwer/anaconda3/lib/python3.9/site-packages/xgboost/lib/libxgboost.so(+0x1e5571) [0x7f55205e5571]\n  [bt] (2) /home/atifanwer/anaconda3/lib/python3.9/site-packages/xgboost/lib/libxgboost.so(+0x1e595a) [0x7f55205e595a]\n  [bt] (3) /home/atifanwer/anaconda3/lib/python3.9/site-packages/xgboost/lib/libxgboost.so(+0x225a3d) [0x7f5520625a3d]\n  [bt] (4) /home/atifanwer/anaconda3/lib/python3.9/site-packages/xgboost/lib/libxgboost.so(XGBoosterUpdateOneIter+0x68) [0x7f55204bf098]\n  [bt] (5) /home/atifanwer/anaconda3/lib/python3.9/lib-dynload/../../libffi.so.7(+0x69dd) [0x7f5578b9a9dd]\n  [bt] (6) /home/atifanwer/anaconda3/lib/python3.9/lib-dynload/../../libffi.so.7(+0x6067) [0x7f5578b9a067]\n  [bt] (7) /home/atifanwer/anaconda3/lib/python3.9/lib-dynload/_ctypes.cpython-39-x86_64-linux-gnu.so(+0x140f6) [0x7f5578bb40f6]\n  [bt] (8) /home/atifanwer/anaconda3/lib/python3.9/lib-dynload/_ctypes.cpython-39-x86_64-linux-gnu.so(+0x1073e) [0x7f5578bb073e]\n\n",
     "output_type": "error",
     "traceback": [
      "\u001b[0;31m---------------------------------------------------------------------------\u001b[0m",
      "\u001b[0;31mXGBoostError\u001b[0m                              Traceback (most recent call last)",
      "Input \u001b[0;32mIn [28]\u001b[0m, in \u001b[0;36m<cell line: 4>\u001b[0;34m()\u001b[0m\n\u001b[1;32m      2\u001b[0m start  \u001b[38;5;241m=\u001b[39m time\u001b[38;5;241m.\u001b[39mtime()\n\u001b[1;32m      3\u001b[0m clf \u001b[38;5;241m=\u001b[39m xgb\u001b[38;5;241m.\u001b[39mXGBClassifier(tree_method \u001b[38;5;241m=\u001b[39m \u001b[38;5;124m'\u001b[39m\u001b[38;5;124mgpu_hist\u001b[39m\u001b[38;5;124m'\u001b[39m)\n\u001b[0;32m----> 4\u001b[0m \u001b[43mclf\u001b[49m\u001b[38;5;241;43m.\u001b[39;49m\u001b[43mfit\u001b[49m\u001b[43m(\u001b[49m\u001b[43mtraining_data\u001b[49m\u001b[43m,\u001b[49m\u001b[43m \u001b[49m\u001b[43mxgb_y_train\u001b[49m\u001b[43m)\u001b[49m\n\u001b[1;32m      5\u001b[0m end \u001b[38;5;241m=\u001b[39m time\u001b[38;5;241m.\u001b[39mtime()\n\u001b[1;32m      6\u001b[0m \u001b[38;5;28mprint\u001b[39m(end\u001b[38;5;241m-\u001b[39mstart)\n",
      "File \u001b[0;32m~/anaconda3/lib/python3.9/site-packages/xgboost/core.py:575\u001b[0m, in \u001b[0;36m_deprecate_positional_args.<locals>.inner_f\u001b[0;34m(*args, **kwargs)\u001b[0m\n\u001b[1;32m    573\u001b[0m \u001b[38;5;28;01mfor\u001b[39;00m k, arg \u001b[38;5;129;01min\u001b[39;00m \u001b[38;5;28mzip\u001b[39m(sig\u001b[38;5;241m.\u001b[39mparameters, args):\n\u001b[1;32m    574\u001b[0m     kwargs[k] \u001b[38;5;241m=\u001b[39m arg\n\u001b[0;32m--> 575\u001b[0m \u001b[38;5;28;01mreturn\u001b[39;00m \u001b[43mf\u001b[49m\u001b[43m(\u001b[49m\u001b[38;5;241;43m*\u001b[39;49m\u001b[38;5;241;43m*\u001b[39;49m\u001b[43mkwargs\u001b[49m\u001b[43m)\u001b[49m\n",
      "File \u001b[0;32m~/anaconda3/lib/python3.9/site-packages/xgboost/sklearn.py:1400\u001b[0m, in \u001b[0;36mXGBClassifier.fit\u001b[0;34m(self, X, y, sample_weight, base_margin, eval_set, eval_metric, early_stopping_rounds, verbose, xgb_model, sample_weight_eval_set, base_margin_eval_set, feature_weights, callbacks)\u001b[0m\n\u001b[1;32m   1379\u001b[0m model, metric, params, early_stopping_rounds, callbacks \u001b[38;5;241m=\u001b[39m \u001b[38;5;28mself\u001b[39m\u001b[38;5;241m.\u001b[39m_configure_fit(\n\u001b[1;32m   1380\u001b[0m     xgb_model, eval_metric, params, early_stopping_rounds, callbacks\n\u001b[1;32m   1381\u001b[0m )\n\u001b[1;32m   1382\u001b[0m train_dmatrix, evals \u001b[38;5;241m=\u001b[39m _wrap_evaluation_matrices(\n\u001b[1;32m   1383\u001b[0m     missing\u001b[38;5;241m=\u001b[39m\u001b[38;5;28mself\u001b[39m\u001b[38;5;241m.\u001b[39mmissing,\n\u001b[1;32m   1384\u001b[0m     X\u001b[38;5;241m=\u001b[39mX,\n\u001b[0;32m   (...)\u001b[0m\n\u001b[1;32m   1397\u001b[0m     enable_categorical\u001b[38;5;241m=\u001b[39m\u001b[38;5;28mself\u001b[39m\u001b[38;5;241m.\u001b[39menable_categorical,\n\u001b[1;32m   1398\u001b[0m )\n\u001b[0;32m-> 1400\u001b[0m \u001b[38;5;28mself\u001b[39m\u001b[38;5;241m.\u001b[39m_Booster \u001b[38;5;241m=\u001b[39m \u001b[43mtrain\u001b[49m\u001b[43m(\u001b[49m\n\u001b[1;32m   1401\u001b[0m \u001b[43m    \u001b[49m\u001b[43mparams\u001b[49m\u001b[43m,\u001b[49m\n\u001b[1;32m   1402\u001b[0m \u001b[43m    \u001b[49m\u001b[43mtrain_dmatrix\u001b[49m\u001b[43m,\u001b[49m\n\u001b[1;32m   1403\u001b[0m \u001b[43m    \u001b[49m\u001b[38;5;28;43mself\u001b[39;49m\u001b[38;5;241;43m.\u001b[39;49m\u001b[43mget_num_boosting_rounds\u001b[49m\u001b[43m(\u001b[49m\u001b[43m)\u001b[49m\u001b[43m,\u001b[49m\n\u001b[1;32m   1404\u001b[0m \u001b[43m    \u001b[49m\u001b[43mevals\u001b[49m\u001b[38;5;241;43m=\u001b[39;49m\u001b[43mevals\u001b[49m\u001b[43m,\u001b[49m\n\u001b[1;32m   1405\u001b[0m \u001b[43m    \u001b[49m\u001b[43mearly_stopping_rounds\u001b[49m\u001b[38;5;241;43m=\u001b[39;49m\u001b[43mearly_stopping_rounds\u001b[49m\u001b[43m,\u001b[49m\n\u001b[1;32m   1406\u001b[0m \u001b[43m    \u001b[49m\u001b[43mevals_result\u001b[49m\u001b[38;5;241;43m=\u001b[39;49m\u001b[43mevals_result\u001b[49m\u001b[43m,\u001b[49m\n\u001b[1;32m   1407\u001b[0m \u001b[43m    \u001b[49m\u001b[43mobj\u001b[49m\u001b[38;5;241;43m=\u001b[39;49m\u001b[43mobj\u001b[49m\u001b[43m,\u001b[49m\n\u001b[1;32m   1408\u001b[0m \u001b[43m    \u001b[49m\u001b[43mcustom_metric\u001b[49m\u001b[38;5;241;43m=\u001b[39;49m\u001b[43mmetric\u001b[49m\u001b[43m,\u001b[49m\n\u001b[1;32m   1409\u001b[0m \u001b[43m    \u001b[49m\u001b[43mverbose_eval\u001b[49m\u001b[38;5;241;43m=\u001b[39;49m\u001b[43mverbose\u001b[49m\u001b[43m,\u001b[49m\n\u001b[1;32m   1410\u001b[0m \u001b[43m    \u001b[49m\u001b[43mxgb_model\u001b[49m\u001b[38;5;241;43m=\u001b[39;49m\u001b[43mmodel\u001b[49m\u001b[43m,\u001b[49m\n\u001b[1;32m   1411\u001b[0m \u001b[43m    \u001b[49m\u001b[43mcallbacks\u001b[49m\u001b[38;5;241;43m=\u001b[39;49m\u001b[43mcallbacks\u001b[49m\u001b[43m,\u001b[49m\n\u001b[1;32m   1412\u001b[0m \u001b[43m\u001b[49m\u001b[43m)\u001b[49m\n\u001b[1;32m   1414\u001b[0m \u001b[38;5;28;01mif\u001b[39;00m \u001b[38;5;129;01mnot\u001b[39;00m callable(\u001b[38;5;28mself\u001b[39m\u001b[38;5;241m.\u001b[39mobjective):\n\u001b[1;32m   1415\u001b[0m     \u001b[38;5;28mself\u001b[39m\u001b[38;5;241m.\u001b[39mobjective \u001b[38;5;241m=\u001b[39m params[\u001b[38;5;124m\"\u001b[39m\u001b[38;5;124mobjective\u001b[39m\u001b[38;5;124m\"\u001b[39m]\n",
      "File \u001b[0;32m~/anaconda3/lib/python3.9/site-packages/xgboost/core.py:575\u001b[0m, in \u001b[0;36m_deprecate_positional_args.<locals>.inner_f\u001b[0;34m(*args, **kwargs)\u001b[0m\n\u001b[1;32m    573\u001b[0m \u001b[38;5;28;01mfor\u001b[39;00m k, arg \u001b[38;5;129;01min\u001b[39;00m \u001b[38;5;28mzip\u001b[39m(sig\u001b[38;5;241m.\u001b[39mparameters, args):\n\u001b[1;32m    574\u001b[0m     kwargs[k] \u001b[38;5;241m=\u001b[39m arg\n\u001b[0;32m--> 575\u001b[0m \u001b[38;5;28;01mreturn\u001b[39;00m \u001b[43mf\u001b[49m\u001b[43m(\u001b[49m\u001b[38;5;241;43m*\u001b[39;49m\u001b[38;5;241;43m*\u001b[39;49m\u001b[43mkwargs\u001b[49m\u001b[43m)\u001b[49m\n",
      "File \u001b[0;32m~/anaconda3/lib/python3.9/site-packages/xgboost/training.py:181\u001b[0m, in \u001b[0;36mtrain\u001b[0;34m(params, dtrain, num_boost_round, evals, obj, feval, maximize, early_stopping_rounds, evals_result, verbose_eval, xgb_model, callbacks, custom_metric)\u001b[0m\n\u001b[1;32m    179\u001b[0m \u001b[38;5;28;01mif\u001b[39;00m cb_container\u001b[38;5;241m.\u001b[39mbefore_iteration(bst, i, dtrain, evals):\n\u001b[1;32m    180\u001b[0m     \u001b[38;5;28;01mbreak\u001b[39;00m\n\u001b[0;32m--> 181\u001b[0m \u001b[43mbst\u001b[49m\u001b[38;5;241;43m.\u001b[39;49m\u001b[43mupdate\u001b[49m\u001b[43m(\u001b[49m\u001b[43mdtrain\u001b[49m\u001b[43m,\u001b[49m\u001b[43m \u001b[49m\u001b[43mi\u001b[49m\u001b[43m,\u001b[49m\u001b[43m \u001b[49m\u001b[43mobj\u001b[49m\u001b[43m)\u001b[49m\n\u001b[1;32m    182\u001b[0m \u001b[38;5;28;01mif\u001b[39;00m cb_container\u001b[38;5;241m.\u001b[39mafter_iteration(bst, i, dtrain, evals):\n\u001b[1;32m    183\u001b[0m     \u001b[38;5;28;01mbreak\u001b[39;00m\n",
      "File \u001b[0;32m~/anaconda3/lib/python3.9/site-packages/xgboost/core.py:1778\u001b[0m, in \u001b[0;36mBooster.update\u001b[0;34m(self, dtrain, iteration, fobj)\u001b[0m\n\u001b[1;32m   1775\u001b[0m \u001b[38;5;28mself\u001b[39m\u001b[38;5;241m.\u001b[39m_validate_features(dtrain)\n\u001b[1;32m   1777\u001b[0m \u001b[38;5;28;01mif\u001b[39;00m fobj \u001b[38;5;129;01mis\u001b[39;00m \u001b[38;5;28;01mNone\u001b[39;00m:\n\u001b[0;32m-> 1778\u001b[0m     \u001b[43m_check_call\u001b[49m\u001b[43m(\u001b[49m\u001b[43m_LIB\u001b[49m\u001b[38;5;241;43m.\u001b[39;49m\u001b[43mXGBoosterUpdateOneIter\u001b[49m\u001b[43m(\u001b[49m\u001b[38;5;28;43mself\u001b[39;49m\u001b[38;5;241;43m.\u001b[39;49m\u001b[43mhandle\u001b[49m\u001b[43m,\u001b[49m\n\u001b[1;32m   1779\u001b[0m \u001b[43m                                            \u001b[49m\u001b[43mctypes\u001b[49m\u001b[38;5;241;43m.\u001b[39;49m\u001b[43mc_int\u001b[49m\u001b[43m(\u001b[49m\u001b[43miteration\u001b[49m\u001b[43m)\u001b[49m\u001b[43m,\u001b[49m\n\u001b[1;32m   1780\u001b[0m \u001b[43m                                            \u001b[49m\u001b[43mdtrain\u001b[49m\u001b[38;5;241;43m.\u001b[39;49m\u001b[43mhandle\u001b[49m\u001b[43m)\u001b[49m\u001b[43m)\u001b[49m\n\u001b[1;32m   1781\u001b[0m \u001b[38;5;28;01melse\u001b[39;00m:\n\u001b[1;32m   1782\u001b[0m     pred \u001b[38;5;241m=\u001b[39m \u001b[38;5;28mself\u001b[39m\u001b[38;5;241m.\u001b[39mpredict(dtrain, output_margin\u001b[38;5;241m=\u001b[39m\u001b[38;5;28;01mTrue\u001b[39;00m, training\u001b[38;5;241m=\u001b[39m\u001b[38;5;28;01mTrue\u001b[39;00m)\n",
      "File \u001b[0;32m~/anaconda3/lib/python3.9/site-packages/xgboost/core.py:246\u001b[0m, in \u001b[0;36m_check_call\u001b[0;34m(ret)\u001b[0m\n\u001b[1;32m    235\u001b[0m \u001b[38;5;124;03m\"\"\"Check the return value of C API call\u001b[39;00m\n\u001b[1;32m    236\u001b[0m \n\u001b[1;32m    237\u001b[0m \u001b[38;5;124;03mThis function will raise exception when error occurs.\u001b[39;00m\n\u001b[0;32m   (...)\u001b[0m\n\u001b[1;32m    243\u001b[0m \u001b[38;5;124;03m    return value from API calls\u001b[39;00m\n\u001b[1;32m    244\u001b[0m \u001b[38;5;124;03m\"\"\"\u001b[39;00m\n\u001b[1;32m    245\u001b[0m \u001b[38;5;28;01mif\u001b[39;00m ret \u001b[38;5;241m!=\u001b[39m \u001b[38;5;241m0\u001b[39m:\n\u001b[0;32m--> 246\u001b[0m     \u001b[38;5;28;01mraise\u001b[39;00m XGBoostError(py_str(_LIB\u001b[38;5;241m.\u001b[39mXGBGetLastError()))\n",
      "\u001b[0;31mXGBoostError\u001b[0m: [20:30:38] ../src/gbm/gbtree.cc:597: Check failed: common::AllVisibleGPUs() >= 1 (0 vs. 1) : No visible GPU is found for XGBoost.\nStack trace:\n  [bt] (0) /home/atifanwer/anaconda3/lib/python3.9/site-packages/xgboost/lib/libxgboost.so(+0x1e4459) [0x7f55205e4459]\n  [bt] (1) /home/atifanwer/anaconda3/lib/python3.9/site-packages/xgboost/lib/libxgboost.so(+0x1e5571) [0x7f55205e5571]\n  [bt] (2) /home/atifanwer/anaconda3/lib/python3.9/site-packages/xgboost/lib/libxgboost.so(+0x1e595a) [0x7f55205e595a]\n  [bt] (3) /home/atifanwer/anaconda3/lib/python3.9/site-packages/xgboost/lib/libxgboost.so(+0x225a3d) [0x7f5520625a3d]\n  [bt] (4) /home/atifanwer/anaconda3/lib/python3.9/site-packages/xgboost/lib/libxgboost.so(XGBoosterUpdateOneIter+0x68) [0x7f55204bf098]\n  [bt] (5) /home/atifanwer/anaconda3/lib/python3.9/lib-dynload/../../libffi.so.7(+0x69dd) [0x7f5578b9a9dd]\n  [bt] (6) /home/atifanwer/anaconda3/lib/python3.9/lib-dynload/../../libffi.so.7(+0x6067) [0x7f5578b9a067]\n  [bt] (7) /home/atifanwer/anaconda3/lib/python3.9/lib-dynload/_ctypes.cpython-39-x86_64-linux-gnu.so(+0x140f6) [0x7f5578bb40f6]\n  [bt] (8) /home/atifanwer/anaconda3/lib/python3.9/lib-dynload/_ctypes.cpython-39-x86_64-linux-gnu.so(+0x1073e) [0x7f5578bb073e]\n\n"
     ]
    }
   ],
   "source": [
    "import time\n",
    "start  = time.time()\n",
    "clf = xgb.XGBClassifier(tree_method = 'gpu_hist')\n",
    "clf.fit(training_data, xgb_y_train)\n",
    "end = time.time()\n",
    "print(end-start)"
   ]
  },
  {
   "cell_type": "code",
   "execution_count": 20,
   "id": "fd5679fd",
   "metadata": {},
   "outputs": [
    {
     "data": {
      "text/plain": [
       "0.630602983297995"
      ]
     },
     "execution_count": 20,
     "metadata": {},
     "output_type": "execute_result"
    }
   ],
   "source": [
    "clf.score(test_data,xgb_y_test)"
   ]
  },
  {
   "cell_type": "code",
   "execution_count": 12,
   "id": "acfaa958",
   "metadata": {
    "collapsed": true
   },
   "outputs": [
    {
     "name": "stderr",
     "output_type": "stream",
     "text": [
      "  2%|▊                                      | 4/180 [27:25<20:06:47, 411.40s/it]\n"
     ]
    },
    {
     "ename": "KeyboardInterrupt",
     "evalue": "",
     "output_type": "error",
     "traceback": [
      "\u001b[0;31m---------------------------------------------------------------------------\u001b[0m",
      "\u001b[0;31mKeyboardInterrupt\u001b[0m                         Traceback (most recent call last)",
      "Input \u001b[0;32mIn [12]\u001b[0m, in \u001b[0;36m<cell line: 8>\u001b[0;34m()\u001b[0m\n\u001b[1;32m      5\u001b[0m \u001b[38;5;66;03m# with Pool() as p:\u001b[39;00m\n\u001b[1;32m      6\u001b[0m \u001b[38;5;66;03m#     for param in tqdm.tqdm(chunker(combinations,12)):\u001b[39;00m\n\u001b[1;32m      7\u001b[0m \u001b[38;5;66;03m#         gridclfs.append(p.map(trainxgb,param))\u001b[39;00m\n\u001b[1;32m      8\u001b[0m \u001b[38;5;28;01mfor\u001b[39;00m param \u001b[38;5;129;01min\u001b[39;00m tqdm\u001b[38;5;241m.\u001b[39mtqdm(combinations):\n\u001b[0;32m----> 9\u001b[0m     gridclfs\u001b[38;5;241m.\u001b[39mappend(\u001b[43mtrainxgb\u001b[49m\u001b[43m(\u001b[49m\u001b[43mparam\u001b[49m\u001b[43m)\u001b[49m)\n",
      "Input \u001b[0;32mIn [11]\u001b[0m, in \u001b[0;36mtrainxgb\u001b[0;34m(params)\u001b[0m\n\u001b[1;32m      2\u001b[0m \u001b[38;5;28;01mdef\u001b[39;00m \u001b[38;5;21mtrainxgb\u001b[39m(params):\n\u001b[1;32m      3\u001b[0m     clf \u001b[38;5;241m=\u001b[39m xgb\u001b[38;5;241m.\u001b[39mXGBClassifier(n_estimators \u001b[38;5;241m=\u001b[39m params[\u001b[38;5;241m0\u001b[39m],max_depth \u001b[38;5;241m=\u001b[39m params[\u001b[38;5;241m1\u001b[39m],subsample \u001b[38;5;241m=\u001b[39m params[\u001b[38;5;241m2\u001b[39m])\n\u001b[0;32m----> 4\u001b[0m     \u001b[43mclf\u001b[49m\u001b[38;5;241;43m.\u001b[39;49m\u001b[43mfit\u001b[49m\u001b[43m(\u001b[49m\u001b[43mtraining_data\u001b[49m\u001b[43m,\u001b[49m\u001b[43m \u001b[49m\u001b[43mxgb_y_train\u001b[49m\u001b[43m)\u001b[49m\n\u001b[1;32m      5\u001b[0m     \u001b[38;5;28;01mreturn\u001b[39;00m clf\n",
      "File \u001b[0;32m~/anaconda3/lib/python3.9/site-packages/xgboost/core.py:575\u001b[0m, in \u001b[0;36m_deprecate_positional_args.<locals>.inner_f\u001b[0;34m(*args, **kwargs)\u001b[0m\n\u001b[1;32m    573\u001b[0m \u001b[38;5;28;01mfor\u001b[39;00m k, arg \u001b[38;5;129;01min\u001b[39;00m \u001b[38;5;28mzip\u001b[39m(sig\u001b[38;5;241m.\u001b[39mparameters, args):\n\u001b[1;32m    574\u001b[0m     kwargs[k] \u001b[38;5;241m=\u001b[39m arg\n\u001b[0;32m--> 575\u001b[0m \u001b[38;5;28;01mreturn\u001b[39;00m \u001b[43mf\u001b[49m\u001b[43m(\u001b[49m\u001b[38;5;241;43m*\u001b[39;49m\u001b[38;5;241;43m*\u001b[39;49m\u001b[43mkwargs\u001b[49m\u001b[43m)\u001b[49m\n",
      "File \u001b[0;32m~/anaconda3/lib/python3.9/site-packages/xgboost/sklearn.py:1400\u001b[0m, in \u001b[0;36mXGBClassifier.fit\u001b[0;34m(self, X, y, sample_weight, base_margin, eval_set, eval_metric, early_stopping_rounds, verbose, xgb_model, sample_weight_eval_set, base_margin_eval_set, feature_weights, callbacks)\u001b[0m\n\u001b[1;32m   1379\u001b[0m model, metric, params, early_stopping_rounds, callbacks \u001b[38;5;241m=\u001b[39m \u001b[38;5;28mself\u001b[39m\u001b[38;5;241m.\u001b[39m_configure_fit(\n\u001b[1;32m   1380\u001b[0m     xgb_model, eval_metric, params, early_stopping_rounds, callbacks\n\u001b[1;32m   1381\u001b[0m )\n\u001b[1;32m   1382\u001b[0m train_dmatrix, evals \u001b[38;5;241m=\u001b[39m _wrap_evaluation_matrices(\n\u001b[1;32m   1383\u001b[0m     missing\u001b[38;5;241m=\u001b[39m\u001b[38;5;28mself\u001b[39m\u001b[38;5;241m.\u001b[39mmissing,\n\u001b[1;32m   1384\u001b[0m     X\u001b[38;5;241m=\u001b[39mX,\n\u001b[0;32m   (...)\u001b[0m\n\u001b[1;32m   1397\u001b[0m     enable_categorical\u001b[38;5;241m=\u001b[39m\u001b[38;5;28mself\u001b[39m\u001b[38;5;241m.\u001b[39menable_categorical,\n\u001b[1;32m   1398\u001b[0m )\n\u001b[0;32m-> 1400\u001b[0m \u001b[38;5;28mself\u001b[39m\u001b[38;5;241m.\u001b[39m_Booster \u001b[38;5;241m=\u001b[39m \u001b[43mtrain\u001b[49m\u001b[43m(\u001b[49m\n\u001b[1;32m   1401\u001b[0m \u001b[43m    \u001b[49m\u001b[43mparams\u001b[49m\u001b[43m,\u001b[49m\n\u001b[1;32m   1402\u001b[0m \u001b[43m    \u001b[49m\u001b[43mtrain_dmatrix\u001b[49m\u001b[43m,\u001b[49m\n\u001b[1;32m   1403\u001b[0m \u001b[43m    \u001b[49m\u001b[38;5;28;43mself\u001b[39;49m\u001b[38;5;241;43m.\u001b[39;49m\u001b[43mget_num_boosting_rounds\u001b[49m\u001b[43m(\u001b[49m\u001b[43m)\u001b[49m\u001b[43m,\u001b[49m\n\u001b[1;32m   1404\u001b[0m \u001b[43m    \u001b[49m\u001b[43mevals\u001b[49m\u001b[38;5;241;43m=\u001b[39;49m\u001b[43mevals\u001b[49m\u001b[43m,\u001b[49m\n\u001b[1;32m   1405\u001b[0m \u001b[43m    \u001b[49m\u001b[43mearly_stopping_rounds\u001b[49m\u001b[38;5;241;43m=\u001b[39;49m\u001b[43mearly_stopping_rounds\u001b[49m\u001b[43m,\u001b[49m\n\u001b[1;32m   1406\u001b[0m \u001b[43m    \u001b[49m\u001b[43mevals_result\u001b[49m\u001b[38;5;241;43m=\u001b[39;49m\u001b[43mevals_result\u001b[49m\u001b[43m,\u001b[49m\n\u001b[1;32m   1407\u001b[0m \u001b[43m    \u001b[49m\u001b[43mobj\u001b[49m\u001b[38;5;241;43m=\u001b[39;49m\u001b[43mobj\u001b[49m\u001b[43m,\u001b[49m\n\u001b[1;32m   1408\u001b[0m \u001b[43m    \u001b[49m\u001b[43mcustom_metric\u001b[49m\u001b[38;5;241;43m=\u001b[39;49m\u001b[43mmetric\u001b[49m\u001b[43m,\u001b[49m\n\u001b[1;32m   1409\u001b[0m \u001b[43m    \u001b[49m\u001b[43mverbose_eval\u001b[49m\u001b[38;5;241;43m=\u001b[39;49m\u001b[43mverbose\u001b[49m\u001b[43m,\u001b[49m\n\u001b[1;32m   1410\u001b[0m \u001b[43m    \u001b[49m\u001b[43mxgb_model\u001b[49m\u001b[38;5;241;43m=\u001b[39;49m\u001b[43mmodel\u001b[49m\u001b[43m,\u001b[49m\n\u001b[1;32m   1411\u001b[0m \u001b[43m    \u001b[49m\u001b[43mcallbacks\u001b[49m\u001b[38;5;241;43m=\u001b[39;49m\u001b[43mcallbacks\u001b[49m\u001b[43m,\u001b[49m\n\u001b[1;32m   1412\u001b[0m \u001b[43m\u001b[49m\u001b[43m)\u001b[49m\n\u001b[1;32m   1414\u001b[0m \u001b[38;5;28;01mif\u001b[39;00m \u001b[38;5;129;01mnot\u001b[39;00m callable(\u001b[38;5;28mself\u001b[39m\u001b[38;5;241m.\u001b[39mobjective):\n\u001b[1;32m   1415\u001b[0m     \u001b[38;5;28mself\u001b[39m\u001b[38;5;241m.\u001b[39mobjective \u001b[38;5;241m=\u001b[39m params[\u001b[38;5;124m\"\u001b[39m\u001b[38;5;124mobjective\u001b[39m\u001b[38;5;124m\"\u001b[39m]\n",
      "File \u001b[0;32m~/anaconda3/lib/python3.9/site-packages/xgboost/core.py:575\u001b[0m, in \u001b[0;36m_deprecate_positional_args.<locals>.inner_f\u001b[0;34m(*args, **kwargs)\u001b[0m\n\u001b[1;32m    573\u001b[0m \u001b[38;5;28;01mfor\u001b[39;00m k, arg \u001b[38;5;129;01min\u001b[39;00m \u001b[38;5;28mzip\u001b[39m(sig\u001b[38;5;241m.\u001b[39mparameters, args):\n\u001b[1;32m    574\u001b[0m     kwargs[k] \u001b[38;5;241m=\u001b[39m arg\n\u001b[0;32m--> 575\u001b[0m \u001b[38;5;28;01mreturn\u001b[39;00m \u001b[43mf\u001b[49m\u001b[43m(\u001b[49m\u001b[38;5;241;43m*\u001b[39;49m\u001b[38;5;241;43m*\u001b[39;49m\u001b[43mkwargs\u001b[49m\u001b[43m)\u001b[49m\n",
      "File \u001b[0;32m~/anaconda3/lib/python3.9/site-packages/xgboost/training.py:181\u001b[0m, in \u001b[0;36mtrain\u001b[0;34m(params, dtrain, num_boost_round, evals, obj, feval, maximize, early_stopping_rounds, evals_result, verbose_eval, xgb_model, callbacks, custom_metric)\u001b[0m\n\u001b[1;32m    179\u001b[0m \u001b[38;5;28;01mif\u001b[39;00m cb_container\u001b[38;5;241m.\u001b[39mbefore_iteration(bst, i, dtrain, evals):\n\u001b[1;32m    180\u001b[0m     \u001b[38;5;28;01mbreak\u001b[39;00m\n\u001b[0;32m--> 181\u001b[0m \u001b[43mbst\u001b[49m\u001b[38;5;241;43m.\u001b[39;49m\u001b[43mupdate\u001b[49m\u001b[43m(\u001b[49m\u001b[43mdtrain\u001b[49m\u001b[43m,\u001b[49m\u001b[43m \u001b[49m\u001b[43mi\u001b[49m\u001b[43m,\u001b[49m\u001b[43m \u001b[49m\u001b[43mobj\u001b[49m\u001b[43m)\u001b[49m\n\u001b[1;32m    182\u001b[0m \u001b[38;5;28;01mif\u001b[39;00m cb_container\u001b[38;5;241m.\u001b[39mafter_iteration(bst, i, dtrain, evals):\n\u001b[1;32m    183\u001b[0m     \u001b[38;5;28;01mbreak\u001b[39;00m\n",
      "File \u001b[0;32m~/anaconda3/lib/python3.9/site-packages/xgboost/core.py:1778\u001b[0m, in \u001b[0;36mBooster.update\u001b[0;34m(self, dtrain, iteration, fobj)\u001b[0m\n\u001b[1;32m   1775\u001b[0m \u001b[38;5;28mself\u001b[39m\u001b[38;5;241m.\u001b[39m_validate_features(dtrain)\n\u001b[1;32m   1777\u001b[0m \u001b[38;5;28;01mif\u001b[39;00m fobj \u001b[38;5;129;01mis\u001b[39;00m \u001b[38;5;28;01mNone\u001b[39;00m:\n\u001b[0;32m-> 1778\u001b[0m     _check_call(\u001b[43m_LIB\u001b[49m\u001b[38;5;241;43m.\u001b[39;49m\u001b[43mXGBoosterUpdateOneIter\u001b[49m\u001b[43m(\u001b[49m\u001b[38;5;28;43mself\u001b[39;49m\u001b[38;5;241;43m.\u001b[39;49m\u001b[43mhandle\u001b[49m\u001b[43m,\u001b[49m\n\u001b[1;32m   1779\u001b[0m \u001b[43m                                            \u001b[49m\u001b[43mctypes\u001b[49m\u001b[38;5;241;43m.\u001b[39;49m\u001b[43mc_int\u001b[49m\u001b[43m(\u001b[49m\u001b[43miteration\u001b[49m\u001b[43m)\u001b[49m\u001b[43m,\u001b[49m\n\u001b[1;32m   1780\u001b[0m \u001b[43m                                            \u001b[49m\u001b[43mdtrain\u001b[49m\u001b[38;5;241;43m.\u001b[39;49m\u001b[43mhandle\u001b[49m\u001b[43m)\u001b[49m)\n\u001b[1;32m   1781\u001b[0m \u001b[38;5;28;01melse\u001b[39;00m:\n\u001b[1;32m   1782\u001b[0m     pred \u001b[38;5;241m=\u001b[39m \u001b[38;5;28mself\u001b[39m\u001b[38;5;241m.\u001b[39mpredict(dtrain, output_margin\u001b[38;5;241m=\u001b[39m\u001b[38;5;28;01mTrue\u001b[39;00m, training\u001b[38;5;241m=\u001b[39m\u001b[38;5;28;01mTrue\u001b[39;00m)\n",
      "\u001b[0;31mKeyboardInterrupt\u001b[0m: "
     ]
    }
   ],
   "source": [
    "from multiprocessing import Pool\n",
    "import tqdm\n",
    "import pickle\n",
    "gridclfs = []\n",
    "for param in tqdm.tqdm(combinations):\n",
    "    gridclfs.append(trainxgb(param))"
   ]
  },
  {
   "cell_type": "code",
   "execution_count": 14,
   "id": "78b8c51c",
   "metadata": {},
   "outputs": [],
   "source": [
    "# clf_flat = [item for sublist in gridclfs for item in sublist]\n",
    "# gridclfs = clf_flat\n",
    "pickle.dump(gridclfs, open(f\"gridxgb_pickle\", 'wb'))"
   ]
  }
 ],
 "metadata": {
  "kernelspec": {
   "display_name": "Python 3 (ipykernel)",
   "language": "python",
   "name": "python3"
  },
  "language_info": {
   "codemirror_mode": {
    "name": "ipython",
    "version": 3
   },
   "file_extension": ".py",
   "mimetype": "text/x-python",
   "name": "python",
   "nbconvert_exporter": "python",
   "pygments_lexer": "ipython3",
   "version": "3.9.12"
  },
  "vscode": {
   "interpreter": {
    "hash": "646bc66e3ebc8d60c8a744ba07eef770a20e0e91fc4f48f411deffe5dddcac56"
   }
  }
 },
 "nbformat": 4,
 "nbformat_minor": 5
}
