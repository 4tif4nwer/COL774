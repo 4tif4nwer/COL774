{
 "cells": [
  {
   "cell_type": "code",
   "execution_count": 1,
   "id": "d5ec1f72",
   "metadata": {},
   "outputs": [],
   "source": [
    "import sys\n",
    "import csv\n",
    "import numpy as np\n",
    "import pandas as pd\n",
    "import cvxopt as co\n",
    "from cvxopt import matrix\n",
    "import pickle\n",
    "import time\n",
    "import os"
   ]
  },
  {
   "cell_type": "code",
   "execution_count": 2,
   "id": "476d43c4",
   "metadata": {},
   "outputs": [],
   "source": [
    "obj = pd.read_pickle(r'D:/GitHub/COL774/Assignment 2/data/part2_data/train_data.pickle')\n",
    "\n",
    "X_full_train = np.reshape(obj['data'],(len(obj['data']),32*32*3))\n",
    "X_full_train = np.array(X_full_train,dtype = 'float64')\n",
    "Y_full_train = np.reshape(obj['labels'],(10000,1))\n",
    "X_full_train/=255"
   ]
  },
  {
   "cell_type": "code",
   "execution_count": null,
   "id": "10db8ca0",
   "metadata": {},
   "outputs": [],
   "source": [
    "def squaredDistanceMatrix(x, y, same=False):\n",
    "    if same:\n",
    "        squares = np.einsum('ij,ij->i', x, x)\n",
    "        squares_fill = np.tile(squares, (squares.shape[0], 1))\n",
    "        return squares_fill + squares_fill.T - 2 * np.matmul(x, x.T)\n",
    "    squares_x = np.einsum('ij,ij->i', x, x)\n",
    "    squares_y = np.einsum('ij,ij->i', y, y)\n",
    "    return np.tile(squares_y, (squares_x.shape[0], 1)) + np.tile(squares_x, (squares_y.shape[0], 1)).T - 2 * np.matmul(x, y.T)"
   ]
  },
  {
   "cell_type": "code",
   "execution_count": null,
   "id": "fa1f65d4",
   "metadata": {},
   "outputs": [],
   "source": [
    "def confusion_matrix(Y_test, Y_pred, k):\n",
    "    confusion = np.zeros((k, k))\n",
    "    for i, j in zip(Y_test, Y_pred):\n",
    "#         print(i,j)\n",
    "        confusion[int(i) - 1][int(j) - 1] += 1\n",
    "    return confusion\n"
   ]
  },
  {
   "cell_type": "code",
   "execution_count": null,
   "id": "1a3ac433",
   "metadata": {},
   "outputs": [],
   "source": [
    "def testGaussian(x,x_sv,y_sv,gamma,alpha,b):\n",
    "    \n",
    "    nsv = x_sv.shape[0]\n",
    "    m = x.shape[0]\n",
    "    E = squaredDistanceMatrix(x_sv,x)\n",
    "    Y_pred = np.einsum('i,ij->j', (alpha * y_sv).reshape(nsv,), np.exp(-gamma * E)) + b # np.sum(alpha*y_sv*np.exp(-gamma*E),axis = 0)+b\n",
    "    return Y_pred.T"
   ]
  },
  {
   "cell_type": "code",
   "execution_count": null,
   "id": "435a8497",
   "metadata": {},
   "outputs": [],
   "source": [
    "def GaussianKernelSVM(x,y,C = 1.0,gamma = 0.001):    \n",
    "    \n",
    "    m = len(y)\n",
    "    squares = np.exp(-gamma * squaredDistanceMatrix(x, x, same=True))\n",
    "    #squares = np.exp(-gamma * squaredDistanceMatrixOld(x, x))\n",
    "    P = co.matrix(squares * np.outer(y, y))\n",
    "#     print(P)\n",
    "#     q = co.matrix([-1.0] * m)\n",
    "#     G = co.matrix(np.vstack((-1 * np.identity(m), np.identity(m))))\n",
    "#     A = co.matrix([[y[i,0]] for i in range(m)])\n",
    "#     b = co.matrix([0.0])\n",
    "#     h = co.matrix([0.0] * m + [C] * m)\n",
    "#     sol = co.solvers.qp(P, q, G, h, A, b, options={'show_progress': True})\n",
    "#     assert sol['status'] == 'optimal'\n",
    "#     print(sol['x'])\n",
    "    \n",
    "    '''m = x.shape[0]\n",
    "#     X = np.square(np.linalg.norm(x,ord = 2,axis = 1)).reshape((m,1))\n",
    "# #     print(X)\n",
    "#     Z = np.ones((m,m))*X\n",
    "#     X = Z + Z.T - 2*np.dot(x,x.T)    \n",
    "    P = np.outer(y,y)*np.exp(-gamma*squaredDistanceMatrix(x,x,True))#np.exp(-gamma*X)\n",
    "#     print(P)\n",
    "    P = matrix(P)'''\n",
    "    q = -np.ones((m,1))\n",
    "    q = matrix(q)\n",
    "    \n",
    "    G = np.identity(m)\n",
    "    G = np.append(G, -G, axis=0)\n",
    "    G = matrix(G)\n",
    "    \n",
    "    h = np.ones((m,1))\n",
    "    h = matrix(np.append(C * h, 0 * h, axis=0))\n",
    "    \n",
    "    A = matrix([[y[i,0]] for i in range(m)])\n",
    "    b = matrix(0.0)\n",
    "    \n",
    "    sol = co.solvers.qp(P, q, G, h, A, b, options={'show_progress': True})\n",
    "    \n",
    "    alpha = (np.array(sol['x']).T)[0]\n",
    "    \n",
    "    \n",
    "    \n",
    "\n",
    "    value = np.einsum('i,i,ij->j', alpha, y.reshape((m,)), squares)\n",
    "    \n",
    "\n",
    "    inf = float('inf')\n",
    "    mna, mxa = inf, -inf\n",
    "    bSum = 0.0\n",
    "    bNum = 0\n",
    "    eps = 1e-5\n",
    "    supportVectors = [i for i in range(m) if abs(alpha[i]) > eps]\n",
    "\n",
    "    mna, mxa = -inf, inf\n",
    "    \n",
    "    for i in range(m):\n",
    "        val = value[i]\n",
    "        \n",
    "        if int(y[i]) == -1:\n",
    "            mna = max(mna, val)\n",
    "        else:\n",
    "            mxa = min(mxa, val)\n",
    "    b = -(mna + mxa) / 2\n",
    "    return b,supportVectors,alpha"
   ]
  },
  {
   "cell_type": "code",
   "execution_count": null,
   "id": "2cc30975",
   "metadata": {},
   "outputs": [],
   "source": [
    "# One vs One CVXOPT\n",
    "\n",
    "Classifiers = dict()\n",
    "\n",
    "for i in range(5):\n",
    "    for j in range(i+1,5):\n",
    "        print(i,j)\n",
    "        class1 = i\n",
    "        class2 = j\n",
    "\n",
    "        X_train = np.zeros((len(np.where(Y_full_train==class1)[0])+len(np.where(Y_full_train==class2)[0]),32*32*3))\n",
    "        Y_train = np.zeros((len(np.where(Y_full_train==class1)[0])+len(np.where(Y_full_train==class2)[0]),1))\n",
    "\n",
    "        X_train[0:len(np.where(Y_full_train==class1)[0])] = X_full_train[np.where(Y_full_train==class1)[0]]\n",
    "        X_train[len(np.where(Y_full_train==class1)[0]):] = X_full_train[np.where(Y_full_train==class2)[0]]\n",
    "        \n",
    "\n",
    "        Y_train[0:len(np.where(Y_full_train==class1)[0])] = 1\n",
    "        Y_train[len(np.where(Y_full_train==class1)[0]):] = -1\n",
    "        \n",
    "        b,supportVectors,alpha = GaussianKernelSVM(X_train,Y_train)\n",
    "        Classifiers[(i,j)] = (b, supportVectors,alpha)\n",
    "        \n",
    "        \n"
   ]
  },
  {
   "cell_type": "code",
   "execution_count": null,
   "id": "76ec23e1",
   "metadata": {},
   "outputs": [],
   "source": [
    "print(Classifiers[(3,4)][0])"
   ]
  },
  {
   "cell_type": "code",
   "execution_count": null,
   "id": "6dbd4263",
   "metadata": {},
   "outputs": [],
   "source": [
    "# Test\n",
    "obj = pd.read_pickle(r'D:/GitHub/COL774/Assignment 2/data/part2_data/test_data.pickle')\n",
    "\n",
    "X_test = np.reshape(obj['data'],(len(obj['data']),32*32*3))\n",
    "X_test = np.array(X_test,dtype = 'float64')\n",
    "Y_test = np.reshape(obj['labels'],(len(obj['labels']),1))\n",
    "X_test/=255\n",
    "\n",
    "Y_pred = np.zeros((Y_test.shape[0],10))\n",
    "\n",
    "binary_cfr_iter = 0\n",
    "\n",
    "\n",
    "for i in range(5):\n",
    "    for j in range(i+1,5):\n",
    "#         print(i,j)\n",
    "        \n",
    "#         print(b)\n",
    "        class1 = i\n",
    "        class2 = j\n",
    "        b,supportVectors,alpha = Classifiers[(class1,class2)]\n",
    "        X_train = np.zeros((len(np.where(Y_full_train==class1)[0])+len(np.where(Y_full_train==class2)[0]),32*32*3))\n",
    "        Y_train = np.zeros((len(np.where(Y_full_train==class1)[0])+len(np.where(Y_full_train==class2)[0]),1))\n",
    "\n",
    "        X_train[0:len(np.where(Y_full_train==class1)[0])] = X_full_train[np.where(Y_full_train==class1)[0]]\n",
    "        X_train[len(np.where(Y_full_train==class1)[0]):] = X_full_train[np.where(Y_full_train==class2)[0]]\n",
    "        \n",
    "        Y_train[0:len(np.where(Y_full_train==class1)[0])] = 1\n",
    "        Y_train[len(np.where(Y_full_train==class1)[0]):] = -1\n",
    "        \n",
    "        Y_pred[:,binary_cfr_iter] = testGaussian(X_test,X_train[supportVectors],Y_train[supportVectors],0.001,alpha[supportVectors].reshape(-1,1),b)\n",
    "        Y_pred[np.where(Y_pred[:,binary_cfr_iter]>=0)[0],binary_cfr_iter] = class1\n",
    "        Y_pred[np.where(Y_pred[:,binary_cfr_iter]<0)[0],binary_cfr_iter] = class2\n",
    "        binary_cfr_iter += 1"
   ]
  },
  {
   "cell_type": "code",
   "execution_count": null,
   "id": "13116a07",
   "metadata": {},
   "outputs": [],
   "source": [
    "m = Y_test.shape[0]\n",
    "Predictions = np.zeros(m)\n",
    "from scipy import stats as st\n",
    "for i in range(m):\n",
    "    Predictions[i] = st.mode(Y_pred[i])[0]\n"
   ]
  },
  {
   "cell_type": "code",
   "execution_count": null,
   "id": "18207d86",
   "metadata": {},
   "outputs": [],
   "source": [
    "acc = len(np.where(Predictions == Y_test.reshape(-1,))[0])\n",
    "print(acc/len(Y_test))"
   ]
  },
  {
   "cell_type": "code",
   "execution_count": null,
   "id": "b66f58d2",
   "metadata": {},
   "outputs": [],
   "source": [
    "print(Y_test.reshape(-1,))"
   ]
  },
  {
   "cell_type": "code",
   "execution_count": null,
   "id": "ed35073a",
   "metadata": {},
   "outputs": [],
   "source": [
    "print(confusion_matrix(Y_test.reshape(-1,),Predictions,5))"
   ]
  },
  {
   "cell_type": "markdown",
   "id": "6d1c3c0d",
   "metadata": {},
   "source": [
    "## Sklearn"
   ]
  },
  {
   "cell_type": "code",
   "execution_count": null,
   "id": "40d36fb4",
   "metadata": {},
   "outputs": [],
   "source": [
    "from sklearn.pipeline import make_pipeline\n",
    "from sklearn.svm import SVC\n",
    "\n",
    "clf =SVC(C = 1.0, kernel = 'rbf', gamma=0.001,decision_function_shape='ovo')\n",
    "clf.fit(X_full_train,Y_full_train.reshape(-1,))\n",
    "Predictions = (clf.predict(X_test))\n",
    "acc = len(np.where(Predictions == Y_test.reshape(-1,))[0])\n",
    "print(acc/len(Y_test))"
   ]
  },
  {
   "cell_type": "code",
   "execution_count": null,
   "id": "865dca22",
   "metadata": {},
   "outputs": [],
   "source": [
    "print(Predictions)"
   ]
  },
  {
   "cell_type": "code",
   "execution_count": null,
   "id": "8e806491",
   "metadata": {},
   "outputs": [],
   "source": [
    "print(confusion_matrix(Y_test.reshape(-1,),Predictions,5))"
   ]
  },
  {
   "cell_type": "code",
   "execution_count": null,
   "id": "67f2f438",
   "metadata": {},
   "outputs": [],
   "source": [
    "training_data = np.concatenate((X_full_train,Y_full_train),axis = 1)"
   ]
  },
  {
   "cell_type": "code",
   "execution_count": null,
   "id": "cee6344c",
   "metadata": {},
   "outputs": [],
   "source": [
    "np.random.shuffle(training_data)"
   ]
  },
  {
   "cell_type": "code",
   "execution_count": null,
   "id": "06423988",
   "metadata": {},
   "outputs": [],
   "source": [
    "# No, you idiot.\n",
    "\n",
    "# def kfoldcrossval(gamma):\n",
    "#     folds = 5\n",
    "#     m = Y_full_train.shape[0]\n",
    "#     test_size = int(m/folds)\n",
    "#     X_train = np.zeros((m-test_size,X_full_train.shape[1]))\n",
    "#     X_test = np.zeros((test_size,X_full_train.shape[1]))\n",
    "#     Y_train = np.zeros((m-test_size,Y_full_train.shape[1]))\n",
    "#     Y_test = np.zeros((test_size,Y_full_train.shape[1]))\n",
    "#     clf =SVC(C = 1.0, kernel = 'rbf', gamma=gamma,decision_function_shape='ovo')\n",
    "#     acc = 0\n",
    "#     for i in range(folds):\n",
    "#         X_train[0:i*test_size] = training_data[0:i*test_size,0:-1]\n",
    "#         Y_train[0:i*test_size] = training_data[0:i*test_size,-1:]\n",
    "#         X_test[:] = training_data[i*test_size:(i+1)*test_size,0:-1]\n",
    "#         Y_test[:] = training_data[i*test_size:(i+1)*test_size,-1:]\n",
    "#         X_train[i*test_size:] = training_data[(i+1)*test_size:,0:-1]\n",
    "#         Y_train[i*test_size:] = training_data[(i+1)*test_size:,-1:]\n",
    "#         clf.fit(X_train,Y_train.reshape(-1,))\n",
    "#         Predictions = (clf.predict(X_test))\n",
    "#         acc += len(np.where(Predictions == Y_test.reshape(-1,))[0])/len(Y_test)\n",
    "# #         print(acc/(i+1))\n",
    "#     print(f\"Val Accuracy : {acc/folds}\")\n",
    "#     obj = pd.read_pickle(r'D:/GitHub/COL774/Assignment 2/data/part2_data/test_data.pickle')\n",
    "\n",
    "#     X_test = np.reshape(obj['data'],(len(obj['data']),32*32*3))\n",
    "#     X_test = np.array(X_test,dtype = 'float64')\n",
    "#     Y_test = np.reshape(obj['labels'],(len(obj['labels']),1))\n",
    "#     X_test/=255\n",
    "#     Predictions = (clf.predict(X_test))\n",
    "#     acc = len(np.where(Predictions == Y_test.reshape(-1,))[0])\n",
    "#     print(f\"Test Accuracy : {acc/len(Y_test)}\")\n",
    "    "
   ]
  },
  {
   "cell_type": "code",
   "execution_count": 3,
   "id": "a8dbf517",
   "metadata": {},
   "outputs": [],
   "source": [
    "from sklearn.model_selection import KFold\n",
    "from sklearn.svm import SVC\n",
    "def kfoldcrossval(training_data,C,folds = 5):\n",
    "    clf =SVC(C = C, kernel = 'rbf', gamma=0.001,decision_function_shape='ovo')\n",
    "    valacc = 0\n",
    "    i = 0\n",
    "    for train_index, test_index in training_data:\n",
    "        \n",
    "        X_train, X_test = X_full_train[train_index], X_full_train[test_index]\n",
    "        Y_train, Y_test = Y_full_train[train_index].reshape(-1,), Y_full_train[test_index].reshape(-1,)\n",
    "        clf.fit(X_train,Y_train.reshape(-1,))\n",
    "        Predictions = (clf.predict(X_test))\n",
    "        valacc += len(np.where(Predictions == Y_test.reshape(-1,))[0])/len(Y_test)\n",
    "        print(valacc/(i+1))\n",
    "        i+=1\n",
    "    valacc = valacc/folds\n",
    "    print(f\"Val Accuracy : {valacc}\")\n",
    "    obj = pd.read_pickle(r'D:/GitHub/COL774/Assignment 2/data/part2_data/test_data.pickle')\n",
    "\n",
    "    X_test = np.reshape(obj['data'],(len(obj['data']),32*32*3))\n",
    "    X_test = np.array(X_test,dtype = 'float64')\n",
    "    Y_test = np.reshape(obj['labels'],(len(obj['labels']),1))\n",
    "    X_test/=255\n",
    "    clf.fit(X_full_train,Y_full_train.reshape(-1,))\n",
    "    Predictions = (clf.predict(X_test))\n",
    "    testacc = len(np.where(Predictions == Y_test.reshape(-1,))[0])/len(Y_test)\n",
    "    print(f\"Test Accuracy : {testacc}\")\n",
    "    return valacc,testacc \n",
    "    "
   ]
  },
  {
   "cell_type": "code",
   "execution_count": 27,
   "id": "3e205662",
   "metadata": {},
   "outputs": [
    {
     "name": "stdout",
     "output_type": "stream",
     "text": [
      "C = 1000\n",
      "0.5805\n",
      "0.5882499999999999\n",
      "0.5901666666666666\n",
      "0.58575\n",
      "0.5843\n",
      "Val Accuracy : 0.5843\n",
      "Test Accuracy : 0.596\n"
     ]
    }
   ],
   "source": [
    "from sklearn.model_selection import KFold\n",
    "folds = 5\n",
    "kf = KFold(n_splits=folds,shuffle = True)\n",
    "ValAcc = np.zeros(6)\n",
    "TestAcc = np.zeros(6)\n",
    "for C,i in zip([1000],range(1)):\n",
    "    print(f\"C = {C}\")\n",
    "    training_data = kf.split(X_full_train)\n",
    "    ValAcc[i],TestAcc[i] = kfoldcrossval(training_data,C,folds)"
   ]
  },
  {
   "cell_type": "code",
   "execution_count": 26,
   "id": "88a9efb1",
   "metadata": {},
   "outputs": [
    {
     "data": {
      "image/png": "[encoded data removed]",
      "text/plain": [
       "<Figure size 1000x1000 with 1 Axes>"
      ]
     },
     "metadata": {
      "needs_background": "light"
     },
     "output_type": "display_data"
    }
   ],
   "source": [
    "ValAcc = 100*np.array([ 0.18769999999999998, 0.18770000000000003,0.5775,0.6058,0.6125,0.6087999999999999,0.5941])\n",
    "TestAcc = 100*np.array([ 0.3772,0.3772,0.593,0.6182,0.626,0.631,0.6126])\n",
    "import matplotlib.pyplot as plt\n",
    "plt.rcParams['figure.dpi'] = 100\n",
    "plt.rcParams['figure.figsize']=[10,10]\n",
    "plt.rcParams.update({'font.size': 10})\n",
    "fig,ax = plt.subplots()\n",
    "plt.xscale('log')\n",
    "ax.plot([1e-5,1e-3,1,5,10,20,100],ValAcc,c = 'black',label = \"Validation Accuracy\")\n",
    "ax.plot([1e-5,1e-3,1,5,10,20,100],TestAcc,c = 'red',label = \"Test Accuracy\")\n",
    "ax.set_title(\"Test and Validation Accuracies vs. C\",fontsize=15)\n",
    "ax.set_xlabel(\"Regularization Parameter(C)\",fontsize = 11)\n",
    "ax.set_ylabel(\"Accuracy %\",fontsize = 11)\n",
    "ax.legend()\n",
    "\n",
    "plt.show()"
   ]
  },
  {
   "cell_type": "markdown",
   "id": "45014879",
   "metadata": {},
   "source": [
    "C = 1e-05\n",
    "0.1925\n",
    "0.19025\n",
    "0.1895\n",
    "0.187625\n",
    "0.18769999999999998\n",
    "Val Accuracy : 0.18769999999999998\n",
    "Test Accuracy : 0.3772\n",
    "C = 0.001\n",
    "0.1855\n",
    "0.1825\n",
    "0.18583333333333332\n",
    "0.186875\n",
    "0.18770000000000003\n",
    "Val Accuracy : 0.18770000000000003\n",
    "Test Accuracy : 0.3772\n",
    "C = 1\n",
    "0.5625\n",
    "0.567\n",
    "0.5675\n",
    "0.576125\n",
    "0.5775\n",
    "Val Accuracy : 0.5775\n",
    "Test Accuracy : 0.593\n",
    "C = 5\n",
    "0.6025\n",
    "0.607\n",
    "0.6036666666666667\n",
    "0.60775\n",
    "0.6058\n",
    "Val Accuracy : 0.6058\n",
    "Test Accuracy : 0.6182\n",
    "C = 10\n",
    "0.6205\n",
    "0.61575\n",
    "0.6135\n",
    "0.6132500000000001\n",
    "0.6125\n",
    "Val Accuracy : 0.6125\n",
    "Test Accuracy : 0.626\n",
    "C = 20\n",
    "0.6065\n",
    "0.60175\n",
    "0.6096666666666667\n",
    "0.6054999999999999\n",
    "0.6087999999999999\n",
    "Val Accuracy : 0.6087999999999999\n",
    "Test Accuracy : 0.631"
   ]
  }
 ],
 "metadata": {
  "kernelspec": {
   "display_name": "Python 3",
   "language": "python",
   "name": "python3"
  },
  "language_info": {
   "codemirror_mode": {
    "name": "ipython",
    "version": 3
   },
   "file_extension": ".py",
   "mimetype": "text/x-python",
   "name": "python",
   "nbconvert_exporter": "python",
   "pygments_lexer": "ipython3",
   "version": "3.8.8"
  }
 },
 "nbformat": 4,
 "nbformat_minor": 5
}
