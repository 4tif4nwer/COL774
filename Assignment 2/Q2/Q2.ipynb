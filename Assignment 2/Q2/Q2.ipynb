{
 "cells": [
  {
   "cell_type": "code",
   "execution_count": 11,
   "id": "149c5331",
   "metadata": {
    "scrolled": true
   },
   "outputs": [],
   "source": [
    "import sys\n",
    "import csv\n",
    "import numpy as np\n",
    "import pandas as pd\n",
    "import cvxopt as co\n",
    "from cvxopt import matrix\n",
    "import pickle\n",
    "import time\n",
    "import os"
   ]
  },
  {
   "cell_type": "code",
   "execution_count": 12,
   "id": "aa9a1bde",
   "metadata": {},
   "outputs": [],
   "source": [
    "obj = pd.read_pickle(r'D:/GitHub/COL774/Assignment 2/data/part2_data/train_data.pickle')\n",
    "\n",
    "# We wil classify 0 and 4\n",
    "class1 = 0\n",
    "class2 = 4\n",
    "\n",
    "X_full = np.reshape(obj['data'],(10000,32*32*3))\n",
    "Y_full = np.reshape(obj['labels'],(10000,1))\n",
    "# print(Y)\n",
    "\n",
    "X_train = np.zeros((len(np.where(Y_full==class1)[0])+len(np.where(Y_full==class2)[0]),32*32*3))\n",
    "Y_train = np.zeros((len(np.where(Y_full==class1)[0])+len(np.where(Y_full==class2)[0]),1))\n",
    "\n",
    "X_train[0:len(np.where(Y_full==class1)[0])] = X_full[np.where(Y_full==class1)[0]]\n",
    "X_train[len(np.where(Y_full==class1)[0]):] = X_full[np.where(Y_full==class2)[0]]\n",
    "X_train/=255\n",
    "\n",
    "Y_train[0:len(np.where(Y_full==class1)[0])] = 1\n",
    "Y_train[len(np.where(Y_full==class1)[0]):] = -1\n"
   ]
  },
  {
   "cell_type": "code",
   "execution_count": 23,
   "id": "c989018e",
   "metadata": {},
   "outputs": [],
   "source": [
    "def LinearKernelSVM(x,y,C = 1.0):    \n",
    "    Z = x*y\n",
    "    m = x.shape[0]\n",
    "    P = matrix(np.dot(Z,Z.T))\n",
    "    \n",
    "    q = -np.ones((m,1))\n",
    "    q = matrix(q)\n",
    "    \n",
    "    G = np.identity(m)\n",
    "    G = np.append(G, -G, axis=0)\n",
    "    G = matrix(G)\n",
    "    \n",
    "    h = np.ones((m,1))\n",
    "    h = matrix(np.append(C * h, 0 * h, axis=0))\n",
    "    \n",
    "    A = matrix([[y[i,0]] for i in range(m)])\n",
    "    b = matrix(0.0)\n",
    "    \n",
    "    sol = co.solvers.qp(P, q, G, h, A, b, options={'show_progress': True})\n",
    "    \n",
    "    alpha = sol['x']\n",
    "    \n",
    "    w = np.sum(alpha*Z,axis = 0)\n",
    "    eps = 1e-5\n",
    "    supportVectors = [i for i in range(m) if abs(alpha[i]) > eps]\n",
    "    inf = float('inf')\n",
    "    mna, mxa = -inf, inf\n",
    "    bSum = 0.0\n",
    "    bNum = 0\n",
    "    for i in range(m):\n",
    "#         if abs(C - alpha[i]) < eps:\n",
    "#             continue\n",
    "        val = np.dot(x[i],w)\n",
    "        \n",
    "        if int(y[i]) == -1:\n",
    "            mna = max(mna, val)\n",
    "        else:\n",
    "            mxa = min(mxa, val)\n",
    "    b = -(mna + mxa) / 2\n",
    "    return w,b,supportVectors,np.array(alpha).T"
   ]
  },
  {
   "cell_type": "code",
   "execution_count": 24,
   "id": "4f9c1ba0",
   "metadata": {
    "scrolled": true
   },
   "outputs": [
    {
     "name": "stdout",
     "output_type": "stream",
     "text": [
      "     pcost       dcost       gap    pres   dres\n",
      " 0: -1.1712e+03 -1.0053e+04  5e+04  3e+00  2e-10\n",
      " 1: -8.2018e+02 -7.0364e+03  1e+04  6e-01  2e-10\n",
      " 2: -6.5638e+02 -3.7165e+03  5e+03  2e-01  1e-10\n",
      " 3: -5.8967e+02 -1.3383e+03  9e+02  2e-02  1e-10\n",
      " 4: -6.5370e+02 -9.3520e+02  3e+02  6e-03  1e-10\n",
      " 5: -6.9062e+02 -8.0961e+02  1e+02  2e-03  1e-10\n",
      " 6: -7.1076e+02 -7.5125e+02  4e+01  3e-04  1e-10\n",
      " 7: -7.1909e+02 -7.3061e+02  1e+01  7e-05  1e-10\n",
      " 8: -7.2208e+02 -7.2387e+02  2e+00  7e-06  2e-10\n",
      " 9: -7.2264e+02 -7.2274e+02  1e-01  3e-07  2e-10\n",
      "10: -7.2267e+02 -7.2268e+02  6e-03  2e-08  2e-10\n",
      "11: -7.2268e+02 -7.2268e+02  1e-04  3e-10  2e-10\n",
      "Optimal solution found.\n"
     ]
    }
   ],
   "source": [
    "w,b,supportVectors,alpha = LinearKernelSVM(X_train,Y_train)"
   ]
  },
  {
   "cell_type": "code",
   "execution_count": 25,
   "id": "fc85c97f",
   "metadata": {},
   "outputs": [
    {
     "name": "stdout",
     "output_type": "stream",
     "text": [
      "[ 0.40311351  0.09715971  0.99773958 ...  0.48383299 -0.04012729\n",
      "  0.53011341] 0.12942423232064204\n"
     ]
    }
   ],
   "source": [
    "print(w,b)"
   ]
  },
  {
   "cell_type": "code",
   "execution_count": null,
   "id": "66bdb88e",
   "metadata": {},
   "outputs": [],
   "source": [
    "# Test\n",
    "obj = pd.read_pickle(r'D:/GitHub/COL774/Assignment 2/data/part2_data/test_data.pickle')\n",
    "Flattened = (np.reshape(obj['data'],(obj['data'].shape[0],32*32*3)))\n",
    "\n",
    "# We wil classify 0 and 4\n",
    "class1 = 0\n",
    "class2 = 4\n",
    "\n",
    "X_full = np.reshape(obj['data'],(obj['data'].shape[0],32*32*3))\n",
    "Y_full = np.reshape(obj['labels'],(obj['data'].shape[0],1))\n",
    "# print(Y)\n",
    "\n",
    "X_test = np.zeros((len(np.where(Y_full==class1)[0])+len(np.where(Y_full==class2)[0]),32*32*3))\n",
    "Y_act = np.zeros((len(np.where(Y_full==class1)[0])+len(np.where(Y_full==class2)[0]),1))\n",
    "\n",
    "X_test[0:len(np.where(Y_full==class1)[0])] = X_full[np.where(Y_full==class1)[0]]\n",
    "X_test[len(np.where(Y_full==class1)[0]):] = X_full[np.where(Y_full==class2)[0]]\n",
    "X_test /= 255\n",
    "\n",
    "Y_act[0:len(np.where(Y_full==class1)[0])] = 1\n",
    "Y_act[len(np.where(Y_full==class1)[0]):] = -1\n",
    "\n",
    "Y_pred = (np.dot(X_test,w)+b).reshape((Y_pred.shape[0],1))\n",
    "Y_pred[np.where(Y_pred>0)[0]] = 1\n",
    "Y_pred[np.where(Y_pred<=0)[0]] = -1\n",
    "acc = len(np.where(Y_pred == Y_act)[0])\n",
    "\n",
    "print(acc/len(Y_pred))"
   ]
  },
  {
   "cell_type": "code",
   "execution_count": null,
   "id": "dfa7e600",
   "metadata": {},
   "outputs": [],
   "source": [
    "print(len(supportVectors)/X_train.shape[0])"
   ]
  },
  {
   "cell_type": "code",
   "execution_count": null,
   "id": "5d54e563",
   "metadata": {},
   "outputs": [],
   "source": [
    "print(np.argsort(alpha[0]))\n",
    "top5 = X_train[np.argsort(alpha[0])[-5:]]\n",
    "print(top5.shape)"
   ]
  },
  {
   "cell_type": "code",
   "execution_count": null,
   "id": "c869f4e6",
   "metadata": {},
   "outputs": [],
   "source": [
    "top5 = top5.reshape(5,32,32,3)\n",
    "%matplotlib inline\n",
    "from matplotlib import pyplot as plt\n",
    "for i in range(5):\n",
    "    plt.imshow(top5[i])\n",
    "    plt.show()"
   ]
  },
  {
   "cell_type": "code",
   "execution_count": null,
   "id": "08803db3",
   "metadata": {},
   "outputs": [],
   "source": [
    "print(np.max(w))\n",
    "plt.imshow(w.reshape(32,32,3))"
   ]
  },
  {
   "cell_type": "markdown",
   "id": "2f7a6d5a",
   "metadata": {},
   "source": [
    "## Gaussian Kernel"
   ]
  },
  {
   "cell_type": "code",
   "execution_count": 13,
   "id": "e4aa560f",
   "metadata": {},
   "outputs": [],
   "source": [
    "def squaredDistanceMatrix(x, y, same=False):\n",
    "    if same:\n",
    "        squares = np.einsum('ij,ij->i', x, x)\n",
    "        squares_fill = np.tile(squares, (squares.shape[0], 1))\n",
    "        return squares_fill + squares_fill.T - 2 * np.matmul(x, x.T)\n",
    "    squares_x = np.einsum('ij,ij->i', x, x)\n",
    "    squares_y = np.einsum('ij,ij->i', y, y)\n",
    "    return np.tile(squares_y, (squares_x.shape[0], 1)) + np.tile(squares_x, (squares_y.shape[0], 1)).T - 2 * np.matmul(x, y.T)"
   ]
  },
  {
   "cell_type": "code",
   "execution_count": 14,
   "id": "33d7b9e7",
   "metadata": {},
   "outputs": [],
   "source": [
    "def mean_normalize(x):\n",
    "    return (x-np.mean(x,axis = 0).reshape((1,x.shape[1])))/np.std(x,axis = 0).reshape((1,x.shape[1])),np.mean(x,axis = 0).reshape((1,x.shape[1])),np.std(x,axis = 0).reshape((1,x.shape[1]))"
   ]
  },
  {
   "cell_type": "code",
   "execution_count": 15,
   "id": "9a472064",
   "metadata": {},
   "outputs": [],
   "source": [
    "def GaussianKernelSVM(x,y,C = 1.0,gamma = 0.001):    \n",
    "    \n",
    "    m = len(y)\n",
    "    squares = np.exp(-gamma * squaredDistanceMatrix(x, x, same=True))\n",
    "    #squares = np.exp(-gamma * squaredDistanceMatrixOld(x, x))\n",
    "    P = co.matrix(squares * np.outer(y, y))\n",
    "#     print(P)\n",
    "#     q = co.matrix([-1.0] * m)\n",
    "#     G = co.matrix(np.vstack((-1 * np.identity(m), np.identity(m))))\n",
    "#     A = co.matrix([[y[i,0]] for i in range(m)])\n",
    "#     b = co.matrix([0.0])\n",
    "#     h = co.matrix([0.0] * m + [C] * m)\n",
    "#     sol = co.solvers.qp(P, q, G, h, A, b, options={'show_progress': True})\n",
    "#     assert sol['status'] == 'optimal'\n",
    "#     print(sol['x'])\n",
    "    \n",
    "    '''m = x.shape[0]\n",
    "#     X = np.square(np.linalg.norm(x,ord = 2,axis = 1)).reshape((m,1))\n",
    "# #     print(X)\n",
    "#     Z = np.ones((m,m))*X\n",
    "#     X = Z + Z.T - 2*np.dot(x,x.T)    \n",
    "    P = np.outer(y,y)*np.exp(-gamma*squaredDistanceMatrix(x,x,True))#np.exp(-gamma*X)\n",
    "#     print(P)\n",
    "    P = matrix(P)'''\n",
    "    q = -np.ones((m,1))\n",
    "    q = matrix(q)\n",
    "    \n",
    "    G = np.identity(m)\n",
    "    G = np.append(G, -G, axis=0)\n",
    "    G = matrix(G)\n",
    "    \n",
    "    h = np.ones((m,1))\n",
    "    h = matrix(np.append(C * h, 0 * h, axis=0))\n",
    "    \n",
    "    A = matrix([[y[i,0]] for i in range(m)])\n",
    "    b = matrix(0.0)\n",
    "    \n",
    "    sol = co.solvers.qp(P, q, G, h, A, b, options={'show_progress': True})\n",
    "    \n",
    "    alpha = (np.array(sol['x']).T)[0]\n",
    "    \n",
    "    \n",
    "    \n",
    "\n",
    "    value = np.einsum('i,i,ij->j', alpha, y.reshape((m,)), squares)\n",
    "    \n",
    "    inf = float('inf')\n",
    "    mna, mxa = inf, -inf\n",
    "    bSum = 0.0\n",
    "    bNum = 0\n",
    "    eps = 1e-5\n",
    "    supportVectors = [i for i in range(m) if abs(alpha[i]) > eps]\n",
    "\n",
    "    mna, mxa = -inf, inf\n",
    "    \n",
    "    for i in range(m):\n",
    "        val = value[i]\n",
    "        \n",
    "        if int(y[i]) == -1:\n",
    "            mna = max(mna, val)\n",
    "        else:\n",
    "            mxa = min(mxa, val)\n",
    "    b = -(mna + mxa) / 2\n",
    "    return b,supportVectors,alpha"
   ]
  },
  {
   "cell_type": "code",
   "execution_count": 16,
   "id": "a8520c44",
   "metadata": {},
   "outputs": [],
   "source": [
    "obj = pd.read_pickle(r'D:/GitHub/COL774/Assignment 2/data/part2_data/train_data.pickle')\n",
    "\n",
    "# We wil classify 0 and 4\n",
    "class1 = 0\n",
    "class2 = 4\n",
    "\n",
    "X_full = np.reshape(obj['data'],(10000,32*32*3))\n",
    "Y_full = np.reshape(obj['labels'],(10000,1))\n",
    "# print(Y)\n",
    "\n",
    "X_train = np.zeros((len(np.where(Y_full==class1)[0])+len(np.where(Y_full==class2)[0]),32*32*3))\n",
    "Y_train = np.zeros((len(np.where(Y_full==class1)[0])+len(np.where(Y_full==class2)[0]),1))\n",
    "\n",
    "X_train[0:len(np.where(Y_full==class1)[0])] = X_full[np.where(Y_full==class1)[0]]\n",
    "X_train[len(np.where(Y_full==class1)[0]):] = X_full[np.where(Y_full==class2)[0]]\n",
    "X_train/=255\n",
    "\n",
    "Y_train[0:len(np.where(Y_full==class1)[0])] = 1\n",
    "Y_train[len(np.where(Y_full==class1)[0]):] = -1\n"
   ]
  },
  {
   "cell_type": "code",
   "execution_count": 17,
   "id": "324d9704",
   "metadata": {
    "scrolled": true
   },
   "outputs": [
    {
     "name": "stdout",
     "output_type": "stream",
     "text": [
      "     pcost       dcost       gap    pres   dres\n",
      " 0: -1.7464e+03 -1.1879e+04  7e+04  3e+00  2e-13\n",
      " 1: -1.1900e+03 -8.3601e+03  1e+04  4e-01  3e-13\n",
      " 2: -1.1405e+03 -2.2570e+03  1e+03  8e-03  2e-13\n",
      " 3: -1.3235e+03 -1.8460e+03  5e+02  3e-03  2e-13\n",
      " 4: -1.3909e+03 -1.7295e+03  3e+02  2e-03  2e-13\n",
      " 5: -1.4389e+03 -1.6455e+03  2e+02  9e-04  2e-13\n",
      " 6: -1.4730e+03 -1.5870e+03  1e+02  4e-04  2e-13\n",
      " 7: -1.4923e+03 -1.5555e+03  6e+01  2e-04  2e-13\n",
      " 8: -1.5008e+03 -1.5419e+03  4e+01  1e-04  2e-13\n",
      " 9: -1.5126e+03 -1.5238e+03  1e+01  2e-05  2e-13\n",
      "10: -1.5164e+03 -1.5186e+03  2e+00  2e-06  3e-13\n",
      "11: -1.5173e+03 -1.5174e+03  1e-01  7e-08  3e-13\n",
      "12: -1.5174e+03 -1.5174e+03  3e-03  2e-09  3e-13\n",
      "13: -1.5174e+03 -1.5174e+03  6e-05  3e-11  3e-13\n",
      "Optimal solution found.\n"
     ]
    }
   ],
   "source": [
    "# X_train,norm_mean,norm_std = mean_normalize(X_train)\n",
    "b,supportVectors,alpha = GaussianKernelSVM(X_train,Y_train)"
   ]
  },
  {
   "cell_type": "code",
   "execution_count": null,
   "id": "361f6951",
   "metadata": {},
   "outputs": [],
   "source": [
    "print(alpha)"
   ]
  },
  {
   "cell_type": "code",
   "execution_count": 18,
   "id": "f8756c78",
   "metadata": {},
   "outputs": [],
   "source": [
    "def testGaussian(x,x_sv,y_sv,gamma,alpha,b):\n",
    "    nsv = x_sv.shape[0]\n",
    "    m = x.shape[0]\n",
    "    E = squaredDistanceMatrix(x_sv,x)\n",
    "    Y_pred = np.einsum('i,ij->j', (alpha * y_sv).reshape(nsv,), np.exp(-gamma * E)) + b# np.sum(alpha*y_sv*np.exp(-gamma*E),axis = 0)+b\n",
    "    return Y_pred.T"
   ]
  },
  {
   "cell_type": "code",
   "execution_count": 19,
   "id": "bfdc3014",
   "metadata": {},
   "outputs": [
    {
     "name": "stdout",
     "output_type": "stream",
     "text": [
      "[ 0.75839257  0.62927043  1.37626534 ... -1.53705659 -0.76709165\n",
      " -2.5010408 ]\n",
      "0.856\n"
     ]
    }
   ],
   "source": [
    "# Test\n",
    "\n",
    "obj = pd.read_pickle(r'D:/GitHub/COL774/Assignment 2/data/part2_data/test_data.pickle')\n",
    "\n",
    "# We wil classify 0 and 4\n",
    "class1 = 0\n",
    "class2 = 4\n",
    "\n",
    "X_full = np.reshape(obj['data'],(obj['data'].shape[0],32*32*3))\n",
    "Y_full = np.reshape(obj['labels'],(obj['data'].shape[0],1))\n",
    "# print(Y)\n",
    "\n",
    "X_test = np.zeros((len(np.where(Y_full==class1)[0])+len(np.where(Y_full==class2)[0]),32*32*3))\n",
    "Y_act = np.zeros((len(np.where(Y_full==class1)[0])+len(np.where(Y_full==class2)[0])))\n",
    "\n",
    "X_test[0:len(np.where(Y_full==class1)[0])] = X_full[np.where(Y_full==class1)[0]]\n",
    "X_test[len(np.where(Y_full==class1)[0]):] = X_full[np.where(Y_full==class2)[0]]\n",
    "X_test /= 255\n",
    "# X_test = (X_test-norm_mean)/norm_std\n",
    "\n",
    "Y_act[0:len(np.where(Y_full==class1)[0])] = 1\n",
    "Y_act[len(np.where(Y_full==class1)[0]):] = -1\n",
    "Y_pred = testGaussian(X_test,X_train[supportVectors],Y_train[supportVectors],0.001,alpha[supportVectors].reshape(-1,1),b)\n",
    "print(Y_pred)\n",
    "Y_pred[np.where(Y_pred>=0)[0]] = 1\n",
    "Y_pred[np.where(Y_pred<0)[0]] = -1\n",
    "acc = len(np.where(Y_pred == Y_act)[0])\n",
    "\n",
    "print(acc/len(Y_act))"
   ]
  },
  {
   "cell_type": "code",
   "execution_count": 20,
   "id": "71b6da60",
   "metadata": {},
   "outputs": [
    {
     "name": "stdout",
     "output_type": "stream",
     "text": [
      "1.8896328281405006\n"
     ]
    }
   ],
   "source": [
    "print(b)"
   ]
  },
  {
   "cell_type": "code",
   "execution_count": null,
   "id": "f5997b65",
   "metadata": {},
   "outputs": [],
   "source": [
    "print(np.argsort(alpha))\n",
    "top5 = X_train[np.argsort(alpha)[-5:]]\n",
    "print(top5.shape)\n",
    "top5 = top5.reshape(5,32,32,3)\n",
    "%matplotlib inline\n",
    "from matplotlib import pyplot as plt\n",
    "for i in range(5):\n",
    "    plt.imshow(top5[i])\n",
    "    plt.show()"
   ]
  },
  {
   "cell_type": "markdown",
   "id": "fcf4d12b",
   "metadata": {},
   "source": [
    "## Sklearn"
   ]
  },
  {
   "cell_type": "code",
   "execution_count": 21,
   "id": "86aab5dc",
   "metadata": {},
   "outputs": [
    {
     "name": "stdout",
     "output_type": "stream",
     "text": [
      "0.791\n"
     ]
    }
   ],
   "source": [
    "from sklearn.pipeline import make_pipeline\n",
    "from sklearn.svm import SVC\n",
    "\n",
    "# Linear\n",
    "\n",
    "clf =SVC(C = 1.0, kernel = 'linear', gamma=0.001)\n",
    "clf.fit(X_train,Y_train.reshape(-1,))\n",
    "Y_pred = (clf.predict(X_test))\n",
    "acc = len(np.where(Y_pred == Y_act.reshape(-1,))[0])\n",
    "print(acc/len(Y_act))"
   ]
  },
  {
   "cell_type": "code",
   "execution_count": null,
   "id": "2c237ac0",
   "metadata": {},
   "outputs": [],
   "source": [
    "print(len(clf.support_))\n",
    "alpha = clf.dual_coef_[0]\n",
    "alpha = alpha.reshape((-1,1))\n",
    "w = np.sum(alpha*X_train[clf.support_],axis = 0)\n",
    "print(w.shape)\n",
    "m = X_train.shape[0]\n",
    "inf = float('inf')\n",
    "mna,mxa = -inf,inf\n",
    "for i in range(m):\n",
    "\n",
    "    val = np.dot(X_train[i],w)\n",
    "\n",
    "    if int(Y_train[i]) == -1:\n",
    "        mna = max(mna, val)\n",
    "    else:\n",
    "        mxa = min(mxa, val)\n",
    "b = -(mna + mxa) / 2 \n",
    "print(w,b)"
   ]
  },
  {
   "cell_type": "code",
   "execution_count": null,
   "id": "387e0996",
   "metadata": {},
   "outputs": [],
   "source": [
    "clf = SVC(C = 1.0,kernel = 'rbf', gamma=0.001)\n",
    "clf.fit(X_train,Y_train.reshape(-1,))\n",
    "Y_pred = (clf.predict(X_test))\n",
    "acc = len(np.where(Y_pred == Y_act.reshape(-1,))[0])\n",
    "print(acc/len(Y_act))"
   ]
  },
  {
   "cell_type": "code",
   "execution_count": null,
   "id": "61879320",
   "metadata": {},
   "outputs": [],
   "source": [
    "print(len(clf.support_))\n",
    "gamma = 0.001\n",
    "m = X_train.shape[0]\n",
    "alpha = np.zeros(m,)\n",
    "alpha[clf.support_] = clf.dual_coef_[0]\n",
    "alpha = np.abs(alpha)\n",
    "\n",
    "# alpha = clf.dual_coef_[0]\n",
    "# alpha = alpha.reshape((-1,))\n",
    "squares = np.exp(-gamma * squaredDistanceMatrix(X_train, X_train, same=True))\n",
    "value = np.einsum('i,i,ij->j', alpha, Y_train.reshape(m,), squares)\n",
    "inf = float('inf')\n",
    "mna,mxa = -inf,inf\n",
    "j = 0\n",
    "for i in range(m):\n",
    "\n",
    "    val = value[i]\n",
    "\n",
    "    if int(Y_train[i,0]) == -1:\n",
    "        mna = max(mna, val)\n",
    "    else:\n",
    "        mxa = min(mxa, val)\n",
    "b = -(mna + mxa) / 2 \n",
    "print(b)"
   ]
  }
 ],
 "metadata": {
  "kernelspec": {
   "display_name": "Python 3",
   "language": "python",
   "name": "python3"
  },
  "language_info": {
   "codemirror_mode": {
    "name": "ipython",
    "version": 3
   },
   "file_extension": ".py",
   "mimetype": "text/x-python",
   "name": "python",
   "nbconvert_exporter": "python",
   "pygments_lexer": "ipython3",
   "version": "3.8.8"
  }
 },
 "nbformat": 4,
 "nbformat_minor": 5
}
